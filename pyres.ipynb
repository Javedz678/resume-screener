{
  "nbformat": 4,
  "nbformat_minor": 0,
  "metadata": {
    "colab": {
      "name": "pyres.ipynb",
      "provenance": [],
      "collapsed_sections": [],
      "include_colab_link": true
    },
    "kernelspec": {
      "name": "python3",
      "display_name": "Python 3"
    },
    "language_info": {
      "name": "python"
    }
  },
  "cells": [
    {
      "cell_type": "markdown",
      "metadata": {
        "id": "view-in-github",
        "colab_type": "text"
      },
      "source": [
        "<a href=\"https://colab.research.google.com/github/Javedz678/resume-screener/blob/main/pyres.ipynb\" target=\"_parent\"><img src=\"https://colab.research.google.com/assets/colab-badge.svg\" alt=\"Open In Colab\"/></a>"
      ]
    },
    {
      "cell_type": "code",
      "metadata": {
        "id": "uNmWwmvfSHCI"
      },
      "source": [
        "!pip install pyresparser\n",
        "!python -m spacy download en_core_web_sm\n",
        "!pip install spacy\n",
        "!pip install gingerit"
      ],
      "execution_count": 8,
      "outputs": []
    },
    {
      "cell_type": "code",
      "metadata": {
        "id": "3jwluDLm6LKW"
      },
      "source": [
        "from google.colab import drive\n",
        "drive.mount('/content/gdrive')"
      ],
      "execution_count": null,
      "outputs": []
    },
    {
      "cell_type": "code",
      "metadata": {
        "id": "t7k5O31ISMhX"
      },
      "source": [
        "import en_core_web_sm\n",
        "import nltk\n",
        "from pyresparser import ResumeParser\n",
        "from gingerit.gingerit import GingerIt\n",
        "import os"
      ],
      "execution_count": 10,
      "outputs": []
    },
    {
      "cell_type": "code",
      "metadata": {
        "id": "NW6cPd1lS78V"
      },
      "source": [
        "nltk.download('stopwords')\n",
        "os.chdir(\"/content/gdrive/MyDrive/Resources\")"
      ],
      "execution_count": null,
      "outputs": []
    },
    {
      "cell_type": "code",
      "metadata": {
        "id": "qC-ZzkwKjeh3"
      },
      "source": [
        "def parse(name):\n",
        "  data = ResumeParser(name).get_extracted_data()\n",
        "  print(data) \n",
        "  print(data.get('skills'))\n",
        "  print(data.get('total_experience'))\n",
        "  print(data.get('experience'))"
      ],
      "execution_count": 24,
      "outputs": []
    },
    {
      "cell_type": "code",
      "metadata": {
        "id": "PaCoRhFpm8p2"
      },
      "source": [
        "def checkGrammer(text):\n",
        "  corrected_text = GingerIt().parse(text)\n",
        "  print(len(corrected_text['corrections']))"
      ],
      "execution_count": 14,
      "outputs": []
    },
    {
      "cell_type": "code",
      "metadata": {
        "id": "B_QvXx0Y0K8x"
      },
      "source": [
        "def start():\n",
        "  resume_list = os.listdir()\n",
        "  for resume in resume_list:\n",
        "    print(\"-----------------------------------\")\n",
        "    print(resume)\n",
        "    parse(resume)\n",
        "    print(\"-----------------------------------\")"
      ],
      "execution_count": 46,
      "outputs": []
    },
    {
      "cell_type": "markdown",
      "metadata": {
        "id": "S_bIUhOqvJQo"
      },
      "source": [
        "Runnable"
      ]
    },
    {
      "cell_type": "code",
      "metadata": {
        "colab": {
          "base_uri": "https://localhost:8080/"
        },
        "id": "R49DNgN2vIP4",
        "outputId": "13e0e9b0-1f84-49d8-a8e7-d138d2a25315"
      },
      "source": [
        "start()"
      ],
      "execution_count": 53,
      "outputs": [
        {
          "output_type": "stream",
          "text": [
            "-----------------------------------\n",
            "1Amy.pdf\n",
            "{'name': 'AMY PROFILE', 'email': None, 'mobile_number': None, 'skills': ['Analytical', 'Accounting', 'Invoices', 'Excel', 'Finance', 'Powerpoint', 'Scheduling', 'Audit', 'Reconciliation', 'Financial statements', 'Investigation', 'Word', 'Microsoft excel', 'English', 'Reports', 'Training', 'Administration'], 'college_name': None, 'degree': ['Bachelor of Business (Accountancy)', 'Diploma in Accounting and Finance'], 'designation': None, 'experience': ['Citco Fund Services (Singapore) Pte Ltd', 'Accountant', 'Jan 2016 – Present Fund', '•  Calculation of estimate and final NAVs on a daily, weekly and monthly basis', '•  Preparation of cash and position reconciliation reports', '•  Daily pre-production tasks such as price checks, interest accruals and fees booking', '•  Maintaining day-to-day relationships with investment managers, brokers and auditors', '•  Communicating with the reconciliations team to ensure consistent and high-quality standards', 'when delivering NAV packages', '•  Undertaking fund migrations from Citco Toronto and Citco Dublin Office', '•  Familiar  with  various  pricing  valuation  models  e.g.  Independent  Price  Verification,  External', 'Valuer', 'Investigation and resolution of breaks', '•', '•  Training of new fund accountants in the team', '•  Assist in reviewing estimate and final NAV packs', 'Norgas Carriers Private Limited', 'Accountant', 'Nov 2014 – Apr 2015', '•  Processing invoices from suppliers and scheduling payment remittances', '•  Assisted in collecting outstanding debts from debtors', '•', '•', '•  Monthly bank reconciliation', '•  Perform intercompany journal entries and reconciliation', 'Involved in the year end closing of accounts', 'Liaised with external auditors during interim and final audit', 'Singapore Armed Forces', 'Specialist/ NSF Battery Sergeant Major (2nd Sergeant, 24th Battalion Singapore Artillery)', 'Jul  2013  –  July  2014  Operation', '•', 'In charge  of the training management and  administration matters, ensuring smooth running', 'and operation of the battalion', '•  Responsible for the welfare, discipline and regimentation of 60 fellow NSFs', '•  Rallied with superiors to keep a lookout for troubled soldiers, acted as the first level of feedback', 'for peers'], 'company_names': None, 'no_of_pages': 2, 'total_experience': 6.0}\n",
            "['Analytical', 'Accounting', 'Invoices', 'Excel', 'Finance', 'Powerpoint', 'Scheduling', 'Audit', 'Reconciliation', 'Financial statements', 'Investigation', 'Word', 'Microsoft excel', 'English', 'Reports', 'Training', 'Administration']\n",
            "6.0\n",
            "['Citco Fund Services (Singapore) Pte Ltd', 'Accountant', 'Jan 2016 – Present Fund', '•  Calculation of estimate and final NAVs on a daily, weekly and monthly basis', '•  Preparation of cash and position reconciliation reports', '•  Daily pre-production tasks such as price checks, interest accruals and fees booking', '•  Maintaining day-to-day relationships with investment managers, brokers and auditors', '•  Communicating with the reconciliations team to ensure consistent and high-quality standards', 'when delivering NAV packages', '•  Undertaking fund migrations from Citco Toronto and Citco Dublin Office', '•  Familiar  with  various  pricing  valuation  models  e.g.  Independent  Price  Verification,  External', 'Valuer', 'Investigation and resolution of breaks', '•', '•  Training of new fund accountants in the team', '•  Assist in reviewing estimate and final NAV packs', 'Norgas Carriers Private Limited', 'Accountant', 'Nov 2014 – Apr 2015', '•  Processing invoices from suppliers and scheduling payment remittances', '•  Assisted in collecting outstanding debts from debtors', '•', '•', '•  Monthly bank reconciliation', '•  Perform intercompany journal entries and reconciliation', 'Involved in the year end closing of accounts', 'Liaised with external auditors during interim and final audit', 'Singapore Armed Forces', 'Specialist/ NSF Battery Sergeant Major (2nd Sergeant, 24th Battalion Singapore Artillery)', 'Jul  2013  –  July  2014  Operation', '•', 'In charge  of the training management and  administration matters, ensuring smooth running', 'and operation of the battalion', '•  Responsible for the welfare, discipline and regimentation of 60 fellow NSFs', '•  Rallied with superiors to keep a lookout for troubled soldiers, acted as the first level of feedback', 'for peers']\n",
            "-----------------------------------\n",
            "-----------------------------------\n",
            "Shashank's Resume (2).pdf\n",
            "{'name': 'Shashank singh', 'email': 'shashanksingh11sept@gmail.com', 'mobile_number': '9449315549', 'skills': ['Engineering', 'System', 'C++', 'Android', 'Python', 'Sports', 'C', 'Photography', 'English', 'Sql', 'Java'], 'college_name': None, 'degree': ['Class X:\\nHAL', 'BMS Institue of Technology & Management'], 'designation': ['Java Development Intern'], 'experience': ['Java Development Intern', 'Vedas Technocrats', '07/2018 – 09/2018', 'IT / Technology Services of android app development service, web', 'hosting service & graphic designing service in Hooghly, West Bengal.', 'Work From Home', 'Project/Tasks', 'Appointment Scheduler using core java', 'Feedback Collection System using core java', 'Reference: Available upon request', '+ College Fest Activities', 'LANGUAGES', 'HIndi', 'English'], 'company_names': None, 'no_of_pages': 1, 'total_experience': 0.0}\n",
            "['Engineering', 'System', 'C++', 'Android', 'Python', 'Sports', 'C', 'Photography', 'English', 'Sql', 'Java']\n",
            "0.0\n",
            "['Java Development Intern', 'Vedas Technocrats', '07/2018 – 09/2018', 'IT / Technology Services of android app development service, web', 'hosting service & graphic designing service in Hooghly, West Bengal.', 'Work From Home', 'Project/Tasks', 'Appointment Scheduler using core java', 'Feedback Collection System using core java', 'Reference: Available upon request', '+ College Fest Activities', 'LANGUAGES', 'HIndi', 'English']\n",
            "-----------------------------------\n",
            "-----------------------------------\n",
            "MD.Javed Resume.pdf\n",
            "{'name': 'AAQIB JAVED', 'email': 'Javedz678@hotmail.com', 'mobile_number': '7760002302', 'skills': ['Html5', 'Cms', 'Js', 'Research', 'Architecture', 'Migration', 'Cloud', 'Communication', 'Website', 'Json', 'Ai', 'Engineering', 'Wordpress', 'Programming', 'Css', 'Php', 'Design', 'System', 'Coding', 'Python', 'Mysql', 'Aws', 'Ux', 'Machine learning', 'Ui', 'Api'], 'college_name': None, 'degree': None, 'designation': None, 'experience': ['•  Web Developer', 'Expanrr | Intern', 'As the only developer in the team my responsibilities were to:-', '1.  Built the website Expanrr.com from the ground up using AWS EC2 instance as the host', 'server after a successful migration from another host.', '2.  Set up the HTTPS load balancer and CMS.', '3.  UI/UX design using WordPress themes as a base and custom coding certain design', \"elements as per clients' request using CSS and bootstrap.\", '4.  Programming using PHP and JS to add/modify functions and behaviours of certain', 'plugins.', '5.  To set up user account management system.', '6.  Set up automated mailing system using mail chimp API.', '7.  To stress test the server with synthetic workloads.'], 'company_names': None, 'no_of_pages': 2, 'total_experience': 0.0}\n",
            "['Html5', 'Cms', 'Js', 'Research', 'Architecture', 'Migration', 'Cloud', 'Communication', 'Website', 'Json', 'Ai', 'Engineering', 'Wordpress', 'Programming', 'Css', 'Php', 'Design', 'System', 'Coding', 'Python', 'Mysql', 'Aws', 'Ux', 'Machine learning', 'Ui', 'Api']\n",
            "0.0\n",
            "['•  Web Developer', 'Expanrr | Intern', 'As the only developer in the team my responsibilities were to:-', '1.  Built the website Expanrr.com from the ground up using AWS EC2 instance as the host', 'server after a successful migration from another host.', '2.  Set up the HTTPS load balancer and CMS.', '3.  UI/UX design using WordPress themes as a base and custom coding certain design', \"elements as per clients' request using CSS and bootstrap.\", '4.  Programming using PHP and JS to add/modify functions and behaviours of certain', 'plugins.', '5.  To set up user account management system.', '6.  Set up automated mailing system using mail chimp API.', '7.  To stress test the server with synthetic workloads.']\n",
            "-----------------------------------\n",
            "-----------------------------------\n",
            "senior dev.pdf\n",
            "{'name': 'Senior Java', 'email': 'info@qwikresume.com', 'mobile_number': None, 'skills': ['Sdlc', 'Jsp', 'Website', 'Technical', 'Analytical', 'Debugging', 'Writing', 'Java', 'Ibm', 'Email', 'Process', 'Testing', 'Banking', 'Scripting', 'Design', 'Money', 'Coding', 'Strategy', 'Business strategy', 'Analysis', 'Html5'], 'college_name': None, 'degree': None, 'designation': ['Senior Java Developer'], 'experience': ['Senior Java Developer', 'Key Bank\\xa0\\xad\\xa0January 2016 – August 2017', '\\uf09f Predicted emerging customer needs and developed innovative solutions to meet them.', '\\uf09f Solved unique and complex problems with broad impact on the business.', '\\uf09f Participated in the development of business strategy.', '\\uf09f Developed and managed business plans to achieve objectives'], 'company_names': None, 'no_of_pages': 2, 'total_experience': 1.58}\n",
            "['Sdlc', 'Jsp', 'Website', 'Technical', 'Analytical', 'Debugging', 'Writing', 'Java', 'Ibm', 'Email', 'Process', 'Testing', 'Banking', 'Scripting', 'Design', 'Money', 'Coding', 'Strategy', 'Business strategy', 'Analysis', 'Html5']\n",
            "1.58\n",
            "['Senior Java Developer', 'Key Bank\\xa0\\xad\\xa0January 2016 – August 2017', '\\uf09f Predicted emerging customer needs and developed innovative solutions to meet them.', '\\uf09f Solved unique and complex problems with broad impact on the business.', '\\uf09f Participated in the development of business strategy.', '\\uf09f Developed and managed business plans to achieve objectives']\n",
            "-----------------------------------\n",
            "-----------------------------------\n",
            "junior dev.pdf\n",
            "{'name': 'Junior Java', 'email': 'info@qwikresume.com', 'mobile_number': None, 'skills': ['Security', 'Js', 'Xml', 'Retail', 'Healthcare', 'Sdlc', 'Cloud', 'Soap', 'Agile', 'Transactions', 'Jsp', 'Website', 'Scrum', 'Technical', 'Pl/sql', 'Complex projects', 'Html', 'C++', 'Email', 'Css', 'Documentation', 'Testing', 'Sql', 'Design', 'Javascript', 'Web services', 'C', 'Analysis', 'Java'], 'college_name': None, 'degree': ['Bachelors'], 'designation': None, 'experience': ['Junior Java Developer', 'Navistar, Inc\\xa0\\xad\\xa0January 2017 – Present', '\\uf09f Working on agile scrum methodology and involving in stand-up meetings to monitor the', '\\uf09f', '\\uf09f', '\\uf09f', 'progress.', 'Involving in requirements gathering, analysis, design, and documentation of the application.', 'Implementing the backend business layers using spring and web services.', 'Implementing Java EE components using Spring MVC, Spring IOC, Spring Transactions, and', 'Spring Security Modules.', '\\uf09f Developing microservices using Java Spring Boot, Hibernate, Restful services with good', 'quality of code.', '\\uf09f Configuring the spring integration XML to route request to respective databases.', '\\uf09f Building application with JS frameworks such as React.Js, Angular.Js.', 'Junior Java Developer', 'ABC Corp\\xa0\\xad\\xa02016 – 2017', '\\uf09f Responsible for developing and unit testing assigned software features and functionalities.', '\\uf09f Performed technical root cause analysis and outline corrective action for given', 'problems/defects.', '\\uf09f Provided reliable solutions to a variety of problems using sound problem-solving techniques.', '\\uf09f Participated in daily meetings to communicate work progress and potential roadblocks.', '\\uf09f Worked to continuously improve software delivery processes and practices.', '\\uf09f Presented, collaborated and added the value to the company and team through participation', 'in peer code reviews, providing comments and suggestions.', '\\uf09f Worked collaboratively and professionally with other client employees in cross-functional', 'teams to achieve goals.', '© This Free Resume Template is the copyright of Qwikresume.com. Usage', 'Guidelines'], 'company_names': None, 'no_of_pages': 2, 'total_experience': 4.58}\n",
            "['Security', 'Js', 'Xml', 'Retail', 'Healthcare', 'Sdlc', 'Cloud', 'Soap', 'Agile', 'Transactions', 'Jsp', 'Website', 'Scrum', 'Technical', 'Pl/sql', 'Complex projects', 'Html', 'C++', 'Email', 'Css', 'Documentation', 'Testing', 'Sql', 'Design', 'Javascript', 'Web services', 'C', 'Analysis', 'Java']\n",
            "4.58\n",
            "['Junior Java Developer', 'Navistar, Inc\\xa0\\xad\\xa0January 2017 – Present', '\\uf09f Working on agile scrum methodology and involving in stand-up meetings to monitor the', '\\uf09f', '\\uf09f', '\\uf09f', 'progress.', 'Involving in requirements gathering, analysis, design, and documentation of the application.', 'Implementing the backend business layers using spring and web services.', 'Implementing Java EE components using Spring MVC, Spring IOC, Spring Transactions, and', 'Spring Security Modules.', '\\uf09f Developing microservices using Java Spring Boot, Hibernate, Restful services with good', 'quality of code.', '\\uf09f Configuring the spring integration XML to route request to respective databases.', '\\uf09f Building application with JS frameworks such as React.Js, Angular.Js.', 'Junior Java Developer', 'ABC Corp\\xa0\\xad\\xa02016 – 2017', '\\uf09f Responsible for developing and unit testing assigned software features and functionalities.', '\\uf09f Performed technical root cause analysis and outline corrective action for given', 'problems/defects.', '\\uf09f Provided reliable solutions to a variety of problems using sound problem-solving techniques.', '\\uf09f Participated in daily meetings to communicate work progress and potential roadblocks.', '\\uf09f Worked to continuously improve software delivery processes and practices.', '\\uf09f Presented, collaborated and added the value to the company and team through participation', 'in peer code reviews, providing comments and suggestions.', '\\uf09f Worked collaboratively and professionally with other client employees in cross-functional', 'teams to achieve goals.', '© This Free Resume Template is the copyright of Qwikresume.com. Usage', 'Guidelines']\n",
            "-----------------------------------\n"
          ],
          "name": "stdout"
        }
      ]
    }
  ]
}