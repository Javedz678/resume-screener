{
  "nbformat": 4,
  "nbformat_minor": 0,
  "metadata": {
    "colab": {
      "name": "Resume parser.ipynb",
      "provenance": [],
      "collapsed_sections": []
    },
    "kernelspec": {
      "name": "python3",
      "display_name": "Python 3"
    },
    "language_info": {
      "name": "python"
    }
  },
  "cells": [
    {
      "cell_type": "markdown",
      "metadata": {
        "id": "mshkGFk-zpSK"
      },
      "source": [
        "<h1>Extract text from resume</h1>"
      ]
    },
    {
      "cell_type": "code",
      "metadata": {
        "id": "3LWno_t_fDSl"
      },
      "source": [
        "\n",
        "#!pip install sentence_transformers"
      ],
      "execution_count": 442,
      "outputs": []
    },
    {
      "cell_type": "code",
      "metadata": {
        "id": "NXAAl7P18fF1"
      },
      "source": [
        "import string\n",
        "import re\n",
        "import nltk\n",
        "import statistics\n",
        "from nltk.corpus import stopwords\n",
        "from nltk.tokenize import word_tokenize\n",
        "from nltk.stem import WordNetLemmatizer\n",
        "from sklearn.metrics.pairwise import cosine_similarity\n",
        "from sklearn.feature_extraction.text import TfidfVectorizer\n",
        "from sentence_transformers import SentenceTransformer\n",
        "from tabulate import tabulate\n",
        "import matplotlib.pyplot as plt\n",
        "import numpy as np\n",
        "import math"
      ],
      "execution_count": 443,
      "outputs": []
    },
    {
      "cell_type": "code",
      "metadata": {
        "colab": {
          "base_uri": "https://localhost:8080/"
        },
        "id": "fi3d3JtwcKV-",
        "outputId": "428abb7d-85bc-454b-a5ac-e3578d233a38"
      },
      "source": [
        "nltk.download('stopwords')\n",
        "nltk.download('punkt')\n",
        "nltk.download('wordnet')"
      ],
      "execution_count": 444,
      "outputs": [
        {
          "output_type": "stream",
          "text": [
            "[nltk_data] Downloading package stopwords to /root/nltk_data...\n",
            "[nltk_data]   Package stopwords is already up-to-date!\n",
            "[nltk_data] Downloading package punkt to /root/nltk_data...\n",
            "[nltk_data]   Package punkt is already up-to-date!\n",
            "[nltk_data] Downloading package wordnet to /root/nltk_data...\n",
            "[nltk_data]   Package wordnet is already up-to-date!\n"
          ],
          "name": "stdout"
        },
        {
          "output_type": "execute_result",
          "data": {
            "text/plain": [
              "True"
            ]
          },
          "metadata": {
            "tags": []
          },
          "execution_count": 444
        }
      ]
    },
    {
      "cell_type": "code",
      "metadata": {
        "id": "0eetRhWi-zjQ"
      },
      "source": [
        "#Global arrays\n",
        "score_array=[]\n",
        "top_institutes = [\"IIT\",\"NIT\",\"IIIT\",\"BITS\"]\n",
        "equvalent_courses = [\"B.E\",\"MSC\",\"MCA\",\"B.Tech\",\"Bachelors\",\"Information science\",\"AI\",\"ML\"]\n",
        "top_banks = [\"JP Morgan\",\"Goldman sachs\",\"Axis bank\",\"HSBC\",\"VISA\",\"PayPal\",\"PWC\",\"HDFC Bank\"]\n",
        "prefer = False"
      ],
      "execution_count": 445,
      "outputs": []
    },
    {
      "cell_type": "markdown",
      "metadata": {
        "id": "zzCy5E8x9TDI"
      },
      "source": [
        "Data cleaning"
      ]
    },
    {
      "cell_type": "code",
      "metadata": {
        "id": "663W_YuQFqXx"
      },
      "source": [
        "def start(actual,expected):\n",
        "  removeStopwords(actual,expected)"
      ],
      "execution_count": 446,
      "outputs": []
    },
    {
      "cell_type": "code",
      "metadata": {
        "id": "Z4rbZlP3Pdq9"
      },
      "source": [
        "def checkTopInstitutes(education,requiredEducation):\n",
        "  for institute in top_institutes:\n",
        "    if institute in education:\n",
        "      education = requiredEducation\n",
        "      break\n",
        "    else:\n",
        "      education.join(',')"
      ],
      "execution_count": 447,
      "outputs": []
    },
    {
      "cell_type": "code",
      "metadata": {
        "id": "d9EqVflxaIPl"
      },
      "source": [
        "def checkEquvalentCourses(education,requiredEducation):\n",
        "  for course in equvalent_courses:\n",
        "    if course in education:\n",
        "      education = requiredEducation\n",
        "    else:\n",
        "      education.join(',')"
      ],
      "execution_count": 448,
      "outputs": []
    },
    {
      "cell_type": "code",
      "metadata": {
        "id": "QF_3Fp_M9w5u"
      },
      "source": [
        "def preferExperience(candidateExperience):\n",
        "  candidateExperience = candidateExperience.split()\n",
        "  for bank in top_banks:\n",
        "    if bank in candidateExperience:\n",
        "      return True"
      ],
      "execution_count": 449,
      "outputs": []
    },
    {
      "cell_type": "code",
      "metadata": {
        "id": "8ukvHBI1CQKh"
      },
      "source": [
        "def removeStopwords(actual,expected):\n",
        "  stop_words = set(stopwords.words('english'))\n",
        "  candidateExperienceTokens = word_tokenize(actual)\n",
        "  requiredExperienceTokens = word_tokenize(expected)\n",
        "  cleanCandidateExperience = [word for word in candidateExperienceTokens if not word in stopwords.words()]\n",
        "  cleanrequiredExperience = [word for word in requiredExperienceTokens if not word in stopwords.words()]\n",
        "  lemmatisation(cleanCandidateExperience,cleanrequiredExperience)"
      ],
      "execution_count": 450,
      "outputs": []
    },
    {
      "cell_type": "code",
      "metadata": {
        "id": "7QejjxgGClqI"
      },
      "source": [
        "def lemmatisation(actual,expected):\n",
        "  CandidateExperience = ' '.join(map(str, actual))\n",
        "  RequiredExperience = ' '.join(map(str, expected))\n",
        "  lemmatizer = WordNetLemmatizer()\n",
        "  lemCandidateExperience =lemmatizer.lemmatize(CandidateExperience)\n",
        "  lemRequiredExperience = lemmatizer.lemmatize(RequiredExperience)\n",
        "  removePunctuation(lemCandidateExperience,lemRequiredExperience)"
      ],
      "execution_count": 451,
      "outputs": []
    },
    {
      "cell_type": "code",
      "metadata": {
        "id": "gET18yibCzMi"
      },
      "source": [
        "def removePunctuation(actual,expected):\n",
        "  noPunCandidateExperience = \"\"\n",
        "  noPunRequiredExperience = \"\"\n",
        "  for character in actual:\n",
        "      if character.isalnum():\n",
        "          noPunCandidateExperience += character\n",
        "      else:\n",
        "        noPunCandidateExperience += \" \"\n",
        "        \n",
        "  for character in expected:\n",
        "      if character.isalnum():\n",
        "          noPunRequiredExperience += character\n",
        "      else:\n",
        "        noPunRequiredExperience += \" \"\n",
        "  model(noPunCandidateExperience,noPunRequiredExperience)"
      ],
      "execution_count": 452,
      "outputs": []
    },
    {
      "cell_type": "code",
      "metadata": {
        "id": "LuQ2dMw_mZpM"
      },
      "source": [
        "def drawPieChart():\n",
        "  y=[]\n",
        "  for i in range(len(score_array)):\n",
        "    if(i==2):\n",
        "      y.append(score_array[i]*1.5)\n",
        "    else:\n",
        "      y.append(score_array[i])\n",
        "  mylabels = [\"Skills\", \"Education\", \"Experience\"]\n",
        "  explode = (0, 0, 0.1 ) \n",
        "  plt.pie(y, labels = mylabels, explode=explode, shadow=True)\n",
        "  plt.title(\"Distribution of attributes of the Candidate.\")\n",
        "  plt.show() "
      ],
      "execution_count": 453,
      "outputs": []
    },
    {
      "cell_type": "code",
      "metadata": {
        "id": "-Py5xiNkipjG"
      },
      "source": [
        "def analytics(prefer = False):\n",
        "  print(\"\\n\")\n",
        "  print(\"REPORT\")\n",
        "  final_score=0\n",
        "  for score in score_array:\n",
        "    final_score+=score\n",
        "  avg = (final_score/300)*100\n",
        "  score_array.append(avg)\n",
        "  s1=score_array[0]/2\n",
        "  s2=score_array[1]/2\n",
        "  s3=score_array[0]\n",
        "  resume_score = ((s1+s1+s3)/200)*100\n",
        "  score_array.append(math.floor(resume_score))\n",
        "\n",
        "  if(avg>min_criteria):\n",
        "    score_array.append(\"PASSED\")\n",
        "  elif(avg>=70 and avg<min_criteria):\n",
        "    score_array.append(\"Manual review needed\")\n",
        "  else:\n",
        "    score_array.append(\"FAILED\")\n",
        "\n",
        "  if(prefer):\n",
        "    print(\"hi\")\n",
        "    score_array.append(\"Has banking experience.\")\n",
        "\n",
        "  if(score_array[1]<70):\n",
        "    score_array.append(\"Candidate does not meet the Education criteria.\")\n",
        "\n",
        "  print(tabulate([score_array], headers=[\"Skills\", \"Education\", \"Experience\",\"AVG\",\"Resume score\",\"Automatic screening\",\"Insights\"]))\n",
        "  #clear data\n",
        "  score_array.clear()"
      ],
      "execution_count": 454,
      "outputs": []
    },
    {
      "cell_type": "markdown",
      "metadata": {
        "id": "M4B5c8lk57u-"
      },
      "source": [
        "<h3>Modelling</h3>"
      ]
    },
    {
      "cell_type": "code",
      "metadata": {
        "id": "79IN6PVKDjHQ"
      },
      "source": [
        "def model(actual,expected):\n",
        "  vectorizer = TfidfVectorizer()\n",
        "  vectorizer.fit([actual])\n",
        "  vectorizer.fit([expected])\n",
        "  vectorA = vectorizer.transform([actual])\n",
        "  vectorB = vectorizer.transform([expected])\n",
        "  similarity_index = cosine_similarity(vectorA, vectorB)\n",
        "  final_score = similarity_index[0][0]*100\n",
        "  score_array.append(int(final_score))\n"
      ],
      "execution_count": 455,
      "outputs": []
    },
    {
      "cell_type": "code",
      "metadata": {
        "id": "5gHmNKlBVMJg"
      },
      "source": [
        "def sentenceTranformerModel(actual,expected):\n",
        "  modelName = \"bert-base-nli-mean-tokens\"\n",
        "  model = SentenceTransformer(modelName)\n",
        "  vectorA = model.encode([actual])\n",
        "  vectorB = model.encode([expected])\n",
        "  similarity_index = cosine_similarity(vectorA, vectorB)\n",
        "  final_score = similarity_index[0][0]*100\n",
        "  score_array.append(int(final_score))"
      ],
      "execution_count": 456,
      "outputs": []
    },
    {
      "cell_type": "markdown",
      "metadata": {
        "id": "JCx4SrobHAEE"
      },
      "source": [
        "<h3>Analysis</h3>\n"
      ]
    },
    {
      "cell_type": "markdown",
      "metadata": {
        "id": "SRzpsWN5kgu8"
      },
      "source": [
        "Make changes below to describe what is needed."
      ]
    },
    {
      "cell_type": "markdown",
      "metadata": {
        "id": "OIAdqGhhkVti"
      },
      "source": [
        "## **Example 1 - Societe generale**"
      ]
    },
    {
      "cell_type": "code",
      "metadata": {
        "id": "cCt2n5G86wv-"
      },
      "source": [
        "#Candidate\n",
        "skills = \"JAVA, SPRING BOOT, Hybernate, SQL, DBMS, Angular, GIT, AI/ML, Jira, Jenkins, Kubernetes, node.js\"\n",
        "education = \"BE in computer science from BMS\""
      ],
      "execution_count": 457,
      "outputs": []
    },
    {
      "cell_type": "code",
      "metadata": {
        "id": "g23AsKymYws2"
      },
      "source": [
        "requiredExperience = \"Deep expertise and hands on experience in Core java. · Hands-on experience with at least 2 to 12 years in Spring and Hibernate technologies. · Hands-on experience with at least 2 to 12 years in web GUI development using HTML, CSS, ReactJS, Bootstrap · Clear understanding of Software Development life cycle and process Oriented. Would be great if worked on Agile or Continuous Delivery (CD) based projects before. · Good fundamentals in Core Programming, Object Oriented design & Design patterns · Should have good hands -on experience on the fundamentals of how modern web works with SPA, Restful APIs and OAuth/OpenID Connect protocols · Experience in creating & executing unit tests using test driven approach with JUnit or any other equivalent. · Good to have exposure to Investment banking domain, ML & Cloud technologies.\"\n",
        "\n",
        "candidateExperience = \"HSBC - Have Over 6+ years of experience in core java, Spring and Hibernate technologies. · Have over 5+ years of experience in web GUI development using HTML, CSS, ReactJS, Bootstrap. Experienced working with Agile and Continuous Delivery projects before. · Have good experience working on SPA, Restful APIs and OAuth/OpenID Connect protocols · Experience in creating & executing unit tests with JUnit and Mockito.\""
      ],
      "execution_count": 458,
      "outputs": []
    },
    {
      "cell_type": "code",
      "metadata": {
        "id": "70Yx842f_Wmf"
      },
      "source": [
        "#Organisation\n",
        "requireTopTierEducation = False\n",
        "preferBankExperience = True\n",
        "min_criteria = 80\n",
        "requiredSkills = \"Java, REACT JS, Spring, Hibernate, CI/ CD, Docker, Kubernetes, Public Cloud (Azure), SQL, Web technologies.\"\n",
        "if(requireTopTierEducation):\n",
        "  requiredEducation = \"BE in computer science from\" + ' '.join([str(elem) for elem in top_institutes])\n",
        "  checkTopInstitutes(education,requiredEducation)\n",
        "else:\n",
        "  requiredEducation = \"BE in computer science \"\n",
        "  checkEquvalentCourses(education,requiredEducation)\n",
        "if(preferBankExperience):\n",
        "  hasPreferance = preferExperience(candidateExperience)\n",
        "  if(hasPreferance):\n",
        "    prefer = True"
      ],
      "execution_count": 459,
      "outputs": []
    },
    {
      "cell_type": "code",
      "metadata": {
        "colab": {
          "base_uri": "https://localhost:8080/",
          "height": 383
        },
        "id": "D4zsdLH1Ek4g",
        "outputId": "e44b5bf2-065d-4226-c7cc-e4808cf2a5d1"
      },
      "source": [
        "start(skills,requiredSkills)\n",
        "start(education,requiredEducation)\n",
        "sentenceTranformerModel(candidateExperience.lower(),requiredExperience.lower())\n",
        "drawPieChart()\n",
        "analytics(prefer)"
      ],
      "execution_count": 460,
      "outputs": [
        {
          "output_type": "display_data",
          "data": {
            "image/png": "[encoded data removed]",
            "text/plain": [
              "<Figure size 432x288 with 1 Axes>"
            ]
          },
          "metadata": {
            "tags": []
          }
        },
        {
          "output_type": "stream",
          "text": [
            "\n",
            "\n",
            "REPORT\n",
            "hi\n",
            "  Skills    Education    Experience      AVG    Resume score  Automatic screening    Insights\n",
            "--------  -----------  ------------  -------  --------------  ---------------------  -----------------------\n",
            "      57          100            73  76.6667              56  Manual review needed   Has banking experience.\n"
          ],
          "name": "stdout"
        }
      ]
    },
    {
      "cell_type": "markdown",
      "metadata": {
        "id": "F8NUDOnVxMvu"
      },
      "source": [
        "## **Example 2 - Microsoft**"
      ]
    },
    {
      "cell_type": "code",
      "metadata": {
        "id": "u0w2tlu5xMvu"
      },
      "source": [
        "candidateExperience = \"4 years of software design and development experience in distributed systems and cloud. 6 years of working with Java Have worked on call and resoloved many production related bugs worked with shell scripting for linux Have worked in scaled agile team Execelent communication and oration skills Have worked with multiple cloud based technologies.\"\n",
        "\n",
        "requiredExperience = \" 3+ years of software design and development experience of production grade distributed systems and services hosted in the cloud 5+ years of working with C# or Java or any language to build service A BS/MSc in Computer Science or equivalent Demonstrated prior experience with operations & on-call support inherent in running a reliable production grade customer-facing service. Prior experience with low-level programming in Windows or Linux environments Demonstrated ability to troubleshoot performance and reliability issues Prior experience working in an agile development team with a customer facing product Prior experience with containers and software delivery in the cloud Good written and oral communication skills with an ability to collaborate with diverse teams\"\n"
      ],
      "execution_count": 470,
      "outputs": []
    },
    {
      "cell_type": "code",
      "metadata": {
        "id": "_Iepq2sIxMvu"
      },
      "source": [
        "#Organisation\n",
        "requireTopTierEducation = False\n",
        "min_criteria = 80\n",
        "requiredSkills = \"JAVA/C, SPRING BOOT, Hybernate, SQL, DBMS, Angular, node.js\"\n",
        "if(requireTopTierEducation):\n",
        "  requiredEducation = \"BE in computer science from\" + ' '.join([str(elem) for elem in top_institutes])\n",
        "  checkTopInstitutes(education,requiredEducation)\n",
        "else:\n",
        "  requiredEducation = \"BE in computer science \"\n",
        "  checkEquvalentCourses(education,requiredEducation)"
      ],
      "execution_count": 471,
      "outputs": []
    },
    {
      "cell_type": "code",
      "metadata": {
        "colab": {
          "base_uri": "https://localhost:8080/",
          "height": 366
        },
        "id": "txMEi3iHxMvu",
        "outputId": "e0f6bdff-ede0-41a3-a286-db29f0e4a87d"
      },
      "source": [
        "start(skills,requiredSkills)\n",
        "start(education,requiredEducation)\n",
        "sentenceTranformerModel(candidateExperience.lower(),requiredExperience.lower())\n",
        "drawPieChart()\n",
        "analytics()"
      ],
      "execution_count": 463,
      "outputs": [
        {
          "output_type": "display_data",
          "data": {
            "image/png": "[encoded data removed]",
            "text/plain": [
              "<Figure size 432x288 with 1 Axes>"
            ]
          },
          "metadata": {
            "tags": []
          }
        },
        {
          "output_type": "stream",
          "text": [
            "\n",
            "\n",
            "REPORT\n",
            "  Skills    Education    Experience      AVG    Resume score  Automatic screening\n",
            "--------  -----------  ------------  -------  --------------  ---------------------\n",
            "     100          100            87  95.6667             100  PASSED\n"
          ],
          "name": "stdout"
        }
      ]
    },
    {
      "cell_type": "markdown",
      "metadata": {
        "id": "Je-JETNk5fui"
      },
      "source": [
        "## **Example 3 - Hotstar**"
      ]
    },
    {
      "cell_type": "code",
      "metadata": {
        "id": "5aN2lGku5fui"
      },
      "source": [
        "requiredExperience = \"4-8 years of experience in software development with strong expertise in Java Experience with reactive programming Experience in building RESTful APIs with monitoring, fault tolerance and metrics Exposure to relational and NoSQL databases (Cassandra,Redis, DynamoDB) Exposure to server-side services using ElasticSearch and ESB - Camel, ActiveMQ Experience in JEE, Spring, Hibernate Knowledge of AJAX and Javascript/scripting language Strong experience with AWS Stack\"\n",
        "\n",
        "candidateExperience = \"Have 3 years of development experiance in working with reactive programing, JEE, Spring and Hybernate Experienced in building restful APIs with Java microservices Experienced in working on relational and noSql databases Experienced in working on kafka. Experienced in Javascript and python as scripting languages. well versed with AWS lamba, EC2 and S3.\"\n"
      ],
      "execution_count": 464,
      "outputs": []
    },
    {
      "cell_type": "code",
      "metadata": {
        "id": "s4643oHY5fui"
      },
      "source": [
        "#Organisation\n",
        "requireTopTierEducation = False\n",
        "min_criteria = 80\n",
        "requiredSkills = \"JAVA, SPRING BOOT, Hybernate, SQL, DBMS, Angular, GIT, AI/ML, Jira, Jenkins, Kubernetes, node.js\"\n",
        "if(requireTopTierEducation):\n",
        "  requiredEducation = \"BE in computer science from\" + ' '.join([str(elem) for elem in top_institutes])\n",
        "  checkTopInstitutes(education,requiredEducation)\n",
        "else:\n",
        "  requiredEducation = \"BE in computer science \"\n",
        "  checkEquvalentCourses(education,requiredEducation)"
      ],
      "execution_count": 465,
      "outputs": []
    },
    {
      "cell_type": "code",
      "metadata": {
        "colab": {
          "base_uri": "https://localhost:8080/",
          "height": 366
        },
        "id": "sIZU1Hdu5fui",
        "outputId": "cb89c14f-8cef-46fc-f15f-7d462878fe37"
      },
      "source": [
        "start(skills,requiredSkills)\n",
        "start(education,requiredEducation)\n",
        "sentenceTranformerModel(candidateExperience.lower(),requiredExperience.lower())\n",
        "drawPieChart()\n",
        "analytics()"
      ],
      "execution_count": 466,
      "outputs": [
        {
          "output_type": "display_data",
          "data": {
            "image/png": "[encoded data removed]",
            "text/plain": [
              "<Figure size 432x288 with 1 Axes>"
            ]
          },
          "metadata": {
            "tags": []
          }
        },
        {
          "output_type": "stream",
          "text": [
            "\n",
            "\n",
            "REPORT\n",
            "  Skills    Education    Experience    AVG    Resume score  Automatic screening\n",
            "--------  -----------  ------------  -----  --------------  ---------------------\n",
            "      99          100            86     95              99  PASSED\n"
          ],
          "name": "stdout"
        }
      ]
    },
    {
      "cell_type": "markdown",
      "metadata": {
        "id": "0MTcSdgw7OYq"
      },
      "source": [
        "## **Example 4 - Amazon**"
      ]
    },
    {
      "cell_type": "code",
      "metadata": {
        "id": "Fq74Csh-7OYw"
      },
      "source": [
        "#Organisation\n",
        "requireTopTierEducation = True\n",
        "min_criteria = 80\n",
        "requiredSkills = \"Java, REACT JS, distributed, multi-tiered systems, algorithms, and relational databases\"\n",
        "if(requireTopTierEducation):\n",
        "  requiredEducation = \"BE in computer science from\" + ' '.join([str(elem) for elem in top_institutes])\n",
        "  checkTopInstitutes(education,requiredEducation)\n",
        "else:\n",
        "  requiredEducation = \"BE in computer science \"\n",
        "  checkEquvalentCourses(education,requiredEducation)"
      ],
      "execution_count": 472,
      "outputs": []
    },
    {
      "cell_type": "code",
      "metadata": {
        "id": "LzahksrY7OYw"
      },
      "source": [
        "requiredExperience = \"Currently enrolled in a Bachelor’s or Master’s Degree in Computer Science, Computer Engineering, or related field at time of application Familiarity with the syntax of languages such as Java, C/C++ or Python. Knowledge of Computer Science fundamentals such as object-oriented design, algorithm design, data structures, problem solving, and complexity analysis. Previous technical internship(s). Experience with distributed, multi-tiered systems, algorithms, and relational databases. Experience in optimization mathematics such as linear programming and nonlinear optimization. Effectively articulate technical challenges and solutions. Adept at handling ambiguous or undefined problems as well as ability to think abstractly.\"\n",
        "\n",
        "candidateExperience = \"Pursuing Bachelors Degree in Information science. profecient in object oriented programming languages such as JAVA and python. An excelent problem solver with deep knowledge of data structures, algorithms, Relational databases and opimisation problems in the domain of linear programming and non linear programming. Ability to adapt to any kind of situation and deliever high quality of solutions and well versed to provide technical support in case of anomalies.\"\n"
      ],
      "execution_count": 473,
      "outputs": []
    },
    {
      "cell_type": "code",
      "metadata": {
        "colab": {
          "base_uri": "https://localhost:8080/",
          "height": 366
        },
        "id": "SFP_df347OYw",
        "outputId": "7d33bb2f-b40b-45ba-c68c-cb17297b845e"
      },
      "source": [
        "start(skills,requiredSkills)\n",
        "start(education,requiredEducation)\n",
        "sentenceTranformerModel(candidateExperience.lower(),requiredExperience.lower())\n",
        "drawPieChart()\n",
        "analytics()"
      ],
      "execution_count": 474,
      "outputs": [
        {
          "output_type": "display_data",
          "data": {
            "image/png": "[encoded data removed]",
            "text/plain": [
              "<Figure size 432x288 with 1 Axes>"
            ]
          },
          "metadata": {
            "tags": []
          }
        },
        {
          "output_type": "stream",
          "text": [
            "\n",
            "\n",
            "REPORT\n",
            "  Skills    Education    Experience      AVG    Resume score  Automatic screening    Insights\n",
            "--------  -----------  ------------  -------  --------------  ---------------------  -----------------------------------------------\n",
            "      44           65            90  66.3333              44  FAILED                 Candidate does not meet the Education criteria.\n"
          ],
          "name": "stdout"
        }
      ]
    }
  ]
}