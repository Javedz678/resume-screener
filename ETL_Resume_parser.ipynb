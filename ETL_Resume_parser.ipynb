{
  "nbformat": 4,
  "nbformat_minor": 0,
  "metadata": {
    "colab": {
      "name": "ETL Resume parser.ipynb",
      "provenance": [],
      "collapsed_sections": [],
      "include_colab_link": true
    },
    "kernelspec": {
      "name": "python3",
      "display_name": "Python 3"
    },
    "language_info": {
      "name": "python"
    },
    "widgets": {
      "application/vnd.jupyter.widget-state+json": {
        "990d26dd5e8943d491ced862d2cd992a": {
          "model_module": "@jupyter-widgets/controls",
          "model_name": "HBoxModel",
          "model_module_version": "1.5.0",
          "state": {
            "_view_name": "HBoxView",
            "_dom_classes": [],
            "_model_name": "HBoxModel",
            "_view_module": "@jupyter-widgets/controls",
            "_model_module_version": "1.5.0",
            "_view_count": null,
            "_view_module_version": "1.5.0",
            "box_style": "",
            "layout": "IPY_MODEL_e93d2cc8231d42478735b53a39cd3ac7",
            "_model_module": "@jupyter-widgets/controls",
            "children": [
              "IPY_MODEL_4a5640ef35c049da9fd065a7963c02fa",
              "IPY_MODEL_a78b251f9be04269b421d09b99eb01d2",
              "IPY_MODEL_5247aea36ed7458891eb791872bb8f7f"
            ]
          }
        },
        "e93d2cc8231d42478735b53a39cd3ac7": {
          "model_module": "@jupyter-widgets/base",
          "model_name": "LayoutModel",
          "model_module_version": "1.2.0",
          "state": {
            "_view_name": "LayoutView",
            "grid_template_rows": null,
            "right": null,
            "justify_content": null,
            "_view_module": "@jupyter-widgets/base",
            "overflow": null,
            "_model_module_version": "1.2.0",
            "_view_count": null,
            "flex_flow": null,
            "width": null,
            "min_width": null,
            "border": null,
            "align_items": null,
            "bottom": null,
            "_model_module": "@jupyter-widgets/base",
            "top": null,
            "grid_column": null,
            "overflow_y": null,
            "overflow_x": null,
            "grid_auto_flow": null,
            "grid_area": null,
            "grid_template_columns": null,
            "flex": null,
            "_model_name": "LayoutModel",
            "justify_items": null,
            "grid_row": null,
            "max_height": null,
            "align_content": null,
            "visibility": null,
            "align_self": null,
            "height": null,
            "min_height": null,
            "padding": null,
            "grid_auto_rows": null,
            "grid_gap": null,
            "max_width": null,
            "order": null,
            "_view_module_version": "1.2.0",
            "grid_template_areas": null,
            "object_position": null,
            "object_fit": null,
            "grid_auto_columns": null,
            "margin": null,
            "display": null,
            "left": null
          }
        },
        "4a5640ef35c049da9fd065a7963c02fa": {
          "model_module": "@jupyter-widgets/controls",
          "model_name": "HTMLModel",
          "model_module_version": "1.5.0",
          "state": {
            "_view_name": "HTMLView",
            "style": "IPY_MODEL_c585e9df89f44dfc9a32b6133f09aef6",
            "_dom_classes": [],
            "description": "",
            "_model_name": "HTMLModel",
            "placeholder": "​",
            "_view_module": "@jupyter-widgets/controls",
            "_model_module_version": "1.5.0",
            "value": "100%",
            "_view_count": null,
            "_view_module_version": "1.5.0",
            "description_tooltip": null,
            "_model_module": "@jupyter-widgets/controls",
            "layout": "IPY_MODEL_34981dd9c9b64d11b1ac66fe94b5e200"
          }
        },
        "a78b251f9be04269b421d09b99eb01d2": {
          "model_module": "@jupyter-widgets/controls",
          "model_name": "FloatProgressModel",
          "model_module_version": "1.5.0",
          "state": {
            "_view_name": "ProgressView",
            "style": "IPY_MODEL_0351fe9689d94f40aa25bb31977d74ed",
            "_dom_classes": [],
            "description": "",
            "_model_name": "FloatProgressModel",
            "bar_style": "success",
            "max": 6,
            "_view_module": "@jupyter-widgets/controls",
            "_model_module_version": "1.5.0",
            "value": 6,
            "_view_count": null,
            "_view_module_version": "1.5.0",
            "orientation": "horizontal",
            "min": 0,
            "description_tooltip": null,
            "_model_module": "@jupyter-widgets/controls",
            "layout": "IPY_MODEL_07c0b46506124470bf8bee5a8e0bd5e3"
          }
        },
        "5247aea36ed7458891eb791872bb8f7f": {
          "model_module": "@jupyter-widgets/controls",
          "model_name": "HTMLModel",
          "model_module_version": "1.5.0",
          "state": {
            "_view_name": "HTMLView",
            "style": "IPY_MODEL_db071ae6abe442d885a5afcfbb775943",
            "_dom_classes": [],
            "description": "",
            "_model_name": "HTMLModel",
            "placeholder": "​",
            "_view_module": "@jupyter-widgets/controls",
            "_model_module_version": "1.5.0",
            "value": " 6/6 [00:49&lt;00:00,  8.25s/it]",
            "_view_count": null,
            "_view_module_version": "1.5.0",
            "description_tooltip": null,
            "_model_module": "@jupyter-widgets/controls",
            "layout": "IPY_MODEL_a7f6a1b12a7f4ee786913ea25f17617a"
          }
        },
        "c585e9df89f44dfc9a32b6133f09aef6": {
          "model_module": "@jupyter-widgets/controls",
          "model_name": "DescriptionStyleModel",
          "model_module_version": "1.5.0",
          "state": {
            "_view_name": "StyleView",
            "_model_name": "DescriptionStyleModel",
            "description_width": "",
            "_view_module": "@jupyter-widgets/base",
            "_model_module_version": "1.5.0",
            "_view_count": null,
            "_view_module_version": "1.2.0",
            "_model_module": "@jupyter-widgets/controls"
          }
        },
        "34981dd9c9b64d11b1ac66fe94b5e200": {
          "model_module": "@jupyter-widgets/base",
          "model_name": "LayoutModel",
          "model_module_version": "1.2.0",
          "state": {
            "_view_name": "LayoutView",
            "grid_template_rows": null,
            "right": null,
            "justify_content": null,
            "_view_module": "@jupyter-widgets/base",
            "overflow": null,
            "_model_module_version": "1.2.0",
            "_view_count": null,
            "flex_flow": null,
            "width": null,
            "min_width": null,
            "border": null,
            "align_items": null,
            "bottom": null,
            "_model_module": "@jupyter-widgets/base",
            "top": null,
            "grid_column": null,
            "overflow_y": null,
            "overflow_x": null,
            "grid_auto_flow": null,
            "grid_area": null,
            "grid_template_columns": null,
            "flex": null,
            "_model_name": "LayoutModel",
            "justify_items": null,
            "grid_row": null,
            "max_height": null,
            "align_content": null,
            "visibility": null,
            "align_self": null,
            "height": null,
            "min_height": null,
            "padding": null,
            "grid_auto_rows": null,
            "grid_gap": null,
            "max_width": null,
            "order": null,
            "_view_module_version": "1.2.0",
            "grid_template_areas": null,
            "object_position": null,
            "object_fit": null,
            "grid_auto_columns": null,
            "margin": null,
            "display": null,
            "left": null
          }
        },
        "0351fe9689d94f40aa25bb31977d74ed": {
          "model_module": "@jupyter-widgets/controls",
          "model_name": "ProgressStyleModel",
          "model_module_version": "1.5.0",
          "state": {
            "_view_name": "StyleView",
            "_model_name": "ProgressStyleModel",
            "description_width": "",
            "_view_module": "@jupyter-widgets/base",
            "_model_module_version": "1.5.0",
            "_view_count": null,
            "_view_module_version": "1.2.0",
            "bar_color": null,
            "_model_module": "@jupyter-widgets/controls"
          }
        },
        "07c0b46506124470bf8bee5a8e0bd5e3": {
          "model_module": "@jupyter-widgets/base",
          "model_name": "LayoutModel",
          "model_module_version": "1.2.0",
          "state": {
            "_view_name": "LayoutView",
            "grid_template_rows": null,
            "right": null,
            "justify_content": null,
            "_view_module": "@jupyter-widgets/base",
            "overflow": null,
            "_model_module_version": "1.2.0",
            "_view_count": null,
            "flex_flow": null,
            "width": null,
            "min_width": null,
            "border": null,
            "align_items": null,
            "bottom": null,
            "_model_module": "@jupyter-widgets/base",
            "top": null,
            "grid_column": null,
            "overflow_y": null,
            "overflow_x": null,
            "grid_auto_flow": null,
            "grid_area": null,
            "grid_template_columns": null,
            "flex": null,
            "_model_name": "LayoutModel",
            "justify_items": null,
            "grid_row": null,
            "max_height": null,
            "align_content": null,
            "visibility": null,
            "align_self": null,
            "height": null,
            "min_height": null,
            "padding": null,
            "grid_auto_rows": null,
            "grid_gap": null,
            "max_width": null,
            "order": null,
            "_view_module_version": "1.2.0",
            "grid_template_areas": null,
            "object_position": null,
            "object_fit": null,
            "grid_auto_columns": null,
            "margin": null,
            "display": null,
            "left": null
          }
        },
        "db071ae6abe442d885a5afcfbb775943": {
          "model_module": "@jupyter-widgets/controls",
          "model_name": "DescriptionStyleModel",
          "model_module_version": "1.5.0",
          "state": {
            "_view_name": "StyleView",
            "_model_name": "DescriptionStyleModel",
            "description_width": "",
            "_view_module": "@jupyter-widgets/base",
            "_model_module_version": "1.5.0",
            "_view_count": null,
            "_view_module_version": "1.2.0",
            "_model_module": "@jupyter-widgets/controls"
          }
        },
        "a7f6a1b12a7f4ee786913ea25f17617a": {
          "model_module": "@jupyter-widgets/base",
          "model_name": "LayoutModel",
          "model_module_version": "1.2.0",
          "state": {
            "_view_name": "LayoutView",
            "grid_template_rows": null,
            "right": null,
            "justify_content": null,
            "_view_module": "@jupyter-widgets/base",
            "overflow": null,
            "_model_module_version": "1.2.0",
            "_view_count": null,
            "flex_flow": null,
            "width": null,
            "min_width": null,
            "border": null,
            "align_items": null,
            "bottom": null,
            "_model_module": "@jupyter-widgets/base",
            "top": null,
            "grid_column": null,
            "overflow_y": null,
            "overflow_x": null,
            "grid_auto_flow": null,
            "grid_area": null,
            "grid_template_columns": null,
            "flex": null,
            "_model_name": "LayoutModel",
            "justify_items": null,
            "grid_row": null,
            "max_height": null,
            "align_content": null,
            "visibility": null,
            "align_self": null,
            "height": null,
            "min_height": null,
            "padding": null,
            "grid_auto_rows": null,
            "grid_gap": null,
            "max_width": null,
            "order": null,
            "_view_module_version": "1.2.0",
            "grid_template_areas": null,
            "object_position": null,
            "object_fit": null,
            "grid_auto_columns": null,
            "margin": null,
            "display": null,
            "left": null
          }
        }
      }
    }
  },
  "cells": [
    {
      "cell_type": "markdown",
      "metadata": {
        "id": "view-in-github",
        "colab_type": "text"
      },
      "source": [
        "<a href=\"https://colab.research.google.com/github/Javedz678/resume-screener/blob/main/ETL_Resume_parser.ipynb\" target=\"_parent\"><img src=\"https://colab.research.google.com/assets/colab-badge.svg\" alt=\"Open In Colab\"/></a>"
      ]
    },
    {
      "cell_type": "markdown",
      "metadata": {
        "id": "mshkGFk-zpSK"
      },
      "source": [
        "<h1>Extract text from resume</h1>"
      ]
    },
    {
      "cell_type": "code",
      "metadata": {
        "id": "3LWno_t_fDSl"
      },
      "source": [
        "!pip install sentence_transformers\n",
        "!pip install pyresparser\n",
        "!python -m spacy download en_core_web_sm\n",
        "!pip install spacy\n",
        "!pip install gingerit"
      ],
      "execution_count": null,
      "outputs": []
    },
    {
      "cell_type": "code",
      "metadata": {
        "id": "NXAAl7P18fF1",
        "colab": {
          "base_uri": "https://localhost:8080/"
        },
        "outputId": "5be53ae0-f1f0-4a4a-d8da-1bdb6834eb73"
      },
      "source": [
        "import string\n",
        "import re\n",
        "import nltk\n",
        "import statistics\n",
        "from nltk.corpus import stopwords\n",
        "from nltk.tokenize import word_tokenize\n",
        "from nltk.stem import WordNetLemmatizer\n",
        "from sklearn.metrics.pairwise import cosine_similarity\n",
        "from sklearn.feature_extraction.text import TfidfVectorizer\n",
        "from sentence_transformers import SentenceTransformer\n",
        "from tabulate import tabulate\n",
        "import pandas as pd\n",
        "import matplotlib.pyplot as plt\n",
        "import numpy as np\n",
        "import math\n",
        "import os\n",
        "from tqdm import tqdm\n",
        "import en_core_web_sm\n",
        "nltk.download('stopwords')\n",
        "nltk.download('punkt')\n",
        "nltk.download('wordnet')\n",
        "os.chdir(\"/content/resume/\")\n",
        "from pyresparser import ResumeParser\n",
        "from gingerit.gingerit import GingerIt\n",
        "import json"
      ],
      "execution_count": 29,
      "outputs": [
        {
          "output_type": "stream",
          "name": "stderr",
          "text": [
            "[nltk_data] Downloading package stopwords to /root/nltk_data...\n",
            "[nltk_data]   Package stopwords is already up-to-date!\n",
            "[nltk_data] Downloading package punkt to /root/nltk_data...\n",
            "[nltk_data]   Package punkt is already up-to-date!\n",
            "[nltk_data] Downloading package wordnet to /root/nltk_data...\n",
            "[nltk_data]   Package wordnet is already up-to-date!\n"
          ]
        }
      ]
    },
    {
      "cell_type": "code",
      "metadata": {
        "id": "uIygNDiCNTz4"
      },
      "source": [
        "from tqdm.notebook import tqdm_notebook"
      ],
      "execution_count": 30,
      "outputs": []
    },
    {
      "cell_type": "code",
      "metadata": {
        "id": "3FEmK3jY9ffJ"
      },
      "source": [
        "#Parsing\n",
        "def parse(path2file):\n",
        "  return ResumeParser(path2file).get_extracted_data()"
      ],
      "execution_count": 31,
      "outputs": []
    },
    {
      "cell_type": "code",
      "metadata": {
        "id": "0MWpAKTH9xkp"
      },
      "source": [
        "def start():\n",
        "  resume_list = os.listdir()\n",
        "  for resume in resume_list:\n",
        "    print(\"Parsing.....\")\n",
        "    parse(resume)"
      ],
      "execution_count": 32,
      "outputs": []
    },
    {
      "cell_type": "code",
      "metadata": {
        "id": "0eetRhWi-zjQ"
      },
      "source": [
        "#Global arrays\n",
        "score_array=[]\n",
        "master_records= []\n",
        "top_institutes = [\"IIT\",\"NIT\",\"IIIT\",\"BITS\"]\n",
        "equvalent_courses = [\"B.E\",\"MSC\",\"MCA\",\"B.Tech\",\"Bachelors\",\"Information science\",\"AI\",\"ML\"]\n",
        "top_banks = [\"JP Morgan\",\"Goldman sachs\",\"Axis bank\",\"HSBC\",\"VISA\",\"PayPal\",\"PWC\",\"HDFC Bank\"]\n",
        "prefer = False"
      ],
      "execution_count": 33,
      "outputs": []
    },
    {
      "cell_type": "markdown",
      "metadata": {
        "id": "zzCy5E8x9TDI"
      },
      "source": [
        "Data cleaning"
      ]
    },
    {
      "cell_type": "code",
      "metadata": {
        "id": "663W_YuQFqXx"
      },
      "source": [
        "def start(actual,expected):\n",
        "  removeStopwords(actual,expected)"
      ],
      "execution_count": 34,
      "outputs": []
    },
    {
      "cell_type": "code",
      "metadata": {
        "id": "Z4rbZlP3Pdq9"
      },
      "source": [
        "def checkTopInstitutes(education,requiredEducation):\n",
        "  for institute in top_institutes:\n",
        "    if institute in education:\n",
        "      education = requiredEducation\n",
        "      break\n",
        "    else:\n",
        "      education.join(',')"
      ],
      "execution_count": 35,
      "outputs": []
    },
    {
      "cell_type": "code",
      "metadata": {
        "id": "d9EqVflxaIPl"
      },
      "source": [
        "def checkEquvalentCourses(education,requiredEducation):\n",
        "  for course in equvalent_courses:\n",
        "    if course in education:\n",
        "      education = requiredEducation\n",
        "    else:\n",
        "      education.join(',')"
      ],
      "execution_count": 36,
      "outputs": []
    },
    {
      "cell_type": "code",
      "metadata": {
        "id": "QF_3Fp_M9w5u"
      },
      "source": [
        "def preferExperience(candidateExperience):\n",
        "  candidateExperience = candidateExperience.split()\n",
        "  for bank in top_banks:\n",
        "    if bank in candidateExperience:\n",
        "      return True"
      ],
      "execution_count": 37,
      "outputs": []
    },
    {
      "cell_type": "code",
      "metadata": {
        "id": "8ukvHBI1CQKh"
      },
      "source": [
        "def removeStopwords(actual,expected):\n",
        "  stop_words = set(stopwords.words('english'))\n",
        "  candidateExperienceTokens = word_tokenize(actual)\n",
        "  requiredExperienceTokens = word_tokenize(expected)\n",
        "  cleanCandidateExperience = [word for word in candidateExperienceTokens if not word in stopwords.words()]\n",
        "  cleanrequiredExperience = [word for word in requiredExperienceTokens if not word in stopwords.words()]\n",
        "  lemmatisation(cleanCandidateExperience,cleanrequiredExperience)"
      ],
      "execution_count": 38,
      "outputs": []
    },
    {
      "cell_type": "code",
      "metadata": {
        "id": "7QejjxgGClqI"
      },
      "source": [
        "def lemmatisation(actual,expected):\n",
        "  CandidateExperience = ' '.join(map(str, actual))\n",
        "  RequiredExperience = ' '.join(map(str, expected))\n",
        "  lemmatizer = WordNetLemmatizer()\n",
        "  lemCandidateExperience =lemmatizer.lemmatize(CandidateExperience)\n",
        "  lemRequiredExperience = lemmatizer.lemmatize(RequiredExperience)\n",
        "  removePunctuation(lemCandidateExperience,lemRequiredExperience)"
      ],
      "execution_count": 39,
      "outputs": []
    },
    {
      "cell_type": "code",
      "metadata": {
        "id": "gET18yibCzMi"
      },
      "source": [
        "def removePunctuation(actual,expected):\n",
        "  noPunCandidateExperience = \"\"\n",
        "  noPunRequiredExperience = \"\"\n",
        "  for character in actual:\n",
        "      if character.isalnum():\n",
        "          noPunCandidateExperience += character\n",
        "      else:\n",
        "        noPunCandidateExperience += \" \"\n",
        "        \n",
        "  for character in expected:\n",
        "      if character.isalnum():\n",
        "          noPunRequiredExperience += character\n",
        "      else:\n",
        "        noPunRequiredExperience += \" \"\n",
        "  model(noPunCandidateExperience,noPunRequiredExperience)"
      ],
      "execution_count": 40,
      "outputs": []
    },
    {
      "cell_type": "code",
      "metadata": {
        "id": "LuQ2dMw_mZpM"
      },
      "source": [
        "def drawPieChart():\n",
        "  y=[]\n",
        "  for i in range(len(score_array)):\n",
        "    if(i==2):\n",
        "      y.append(score_array[i]*1.5)\n",
        "    else:\n",
        "      y.append(score_array[i])\n",
        "  mylabels = [\"Skills\", \"Education\", \"Experience\"]\n",
        "  explode = (0, 0, 0.1 ) \n",
        "  plt.pie(y, labels = mylabels, explode=explode, shadow=True)\n",
        "  plt.title(\"Distribution of attributes of the Candidate.\")\n",
        "  plt.show() "
      ],
      "execution_count": 41,
      "outputs": []
    },
    {
      "cell_type": "code",
      "metadata": {
        "id": "zO_VOk5yYOMa"
      },
      "source": [
        "#Process prequesit requirements \n",
        "def processPrequesits(requireTopTierEducation,preferBankExperience):\n",
        "  if(requireTopTierEducation):\n",
        "    requiredEducation = \"BE in computer science from\" + ' '.join([str(elem) for elem in top_institutes])\n",
        "    checkTopInstitutes(education,requiredEducation)\n",
        "  else:\n",
        "    requiredEducation = \"BE in computer science \"\n",
        "    checkEquvalentCourses(education,requiredEducation)\n",
        "  if(preferBankExperience):\n",
        "    hasPreferance = preferExperience(candidateExperience)\n",
        "    if(hasPreferance):\n",
        "      prefer = True\n",
        "  return requiredEducation"
      ],
      "execution_count": 42,
      "outputs": []
    },
    {
      "cell_type": "code",
      "metadata": {
        "id": "BsEmRIJj_P7S"
      },
      "source": [
        "def initJob(requireTopTierEducation,preferBankExperience,requirementCorpus,prefer = False):\n",
        "  #requiredEducation = processPrequesits(requireTopTierEducation,preferBankExperience)\n",
        "  resume_list = os.listdir()\n",
        "  for resume in tqdm_notebook(resume_list):\n",
        "    obj = parse(resume)\n",
        "    data = obj.get('experience')\n",
        "    skills = obj.get('skills')\n",
        "    allSkills = skills+data\n",
        "    skillsCorpus = \" \".join(allSkills)\n",
        "    checkRequiredSkills(skillsCorpus)\n",
        "    checkOptionalSkills(skillsCorpus)\n",
        "    candidateCorpus = \"\".join(data)\n",
        "    sentenceTranformerModel(candidateCorpus.lower(),requirementCorpus.lower())\n",
        "    analytics(resume,prefer)\n",
        "    print(\"---------------------------------------------\")\n",
        "  #drawPieChart()\n",
        "  #analytics(prefer)"
      ],
      "execution_count": 104,
      "outputs": []
    },
    {
      "cell_type": "code",
      "metadata": {
        "id": "81KgElPge-3t"
      },
      "source": [
        "def checkRequiredSkills(data):\n",
        "  rs = requiredSkills.split(\",\")\n",
        "  countR= len(rs)\n",
        "  counter=0\n",
        "  data=data.lower()\n",
        "  for skill in rs:\n",
        "    if(skill.lower() in data):\n",
        "        counter+=1\n",
        "\n",
        "  if(counter>=countR):\n",
        "    print(\"Has all the required skills\")\n",
        "  elif(counter>0 and counter<countR):\n",
        "    print(\"Has partial required skills \")\n",
        "  else:\n",
        "    print(\"Does not have the required skills\")\n",
        "  "
      ],
      "execution_count": 108,
      "outputs": []
    },
    {
      "cell_type": "code",
      "metadata": {
        "id": "gz8oRvNLiyYl"
      },
      "source": [
        "def checkOptionalSkills(data):\n",
        "  rs= goodtohaveskills.split()\n",
        "  countR= len(rs)\n",
        "  counter=0\n",
        "  data=data.lower()\n",
        "\n",
        "  for skill in rs:\n",
        "    if(skill.lower() in data):\n",
        "        counter+=1\n",
        "\n",
        "  if(counter>=countR):\n",
        "    print(\"Has all the Optional skills\")\n",
        "  elif(counter>0 and counter<countR):\n",
        "    print(\"Has partial Optional skills\")\n",
        "  else:\n",
        "    print(\"Does not have the Optional skills\")"
      ],
      "execution_count": 109,
      "outputs": []
    },
    {
      "cell_type": "code",
      "metadata": {
        "id": "-Py5xiNkipjG"
      },
      "source": [
        "def analytics(name,prefer = False):\n",
        "  avg = score_array[0]\n",
        "  score_array.append(name)\n",
        "  if(avg>min_criteria):\n",
        "    score_array.append(\"PASSED\")\n",
        "  elif(avg>70 and avg<min_criteria):\n",
        "    score_array.append(\"Manual review needed\")\n",
        "  else:\n",
        "    score_array.append(\"FAILED\")\n",
        "\n",
        "  if(prefer):\n",
        "    score_array.append(\"Has banking experience.\")\n",
        "  print(score_array)\n",
        "  score_array.clear()"
      ],
      "execution_count": 46,
      "outputs": []
    },
    {
      "cell_type": "code",
      "metadata": {
        "id": "CXX62uSbItyF"
      },
      "source": [
        "def showTable():\n",
        "  print(master_records)\n",
        "  #print(tabulate(master_records, headers=[\"Resume score\",\"Automatic screening\",\"Insights\"]))"
      ],
      "execution_count": 47,
      "outputs": []
    },
    {
      "cell_type": "markdown",
      "metadata": {
        "id": "M4B5c8lk57u-"
      },
      "source": [
        "<h3>Modelling</h3>"
      ]
    },
    {
      "cell_type": "code",
      "metadata": {
        "id": "5gHmNKlBVMJg"
      },
      "source": [
        "def sentenceTranformerModel(actual,expected):\n",
        "  modelName = \"bert-base-nli-mean-tokens\"\n",
        "  model = SentenceTransformer(modelName)\n",
        "  vectorA = model.encode([actual])\n",
        "  vectorB = model.encode([expected])\n",
        "  similarity_index = cosine_similarity(vectorB, vectorA)\n",
        "  final_score = similarity_index[0][0]*100\n",
        "  score_array.append(int(final_score))"
      ],
      "execution_count": 48,
      "outputs": []
    },
    {
      "cell_type": "markdown",
      "metadata": {
        "id": "JCx4SrobHAEE"
      },
      "source": [
        "<h3>Analysis</h3>\n"
      ]
    },
    {
      "cell_type": "markdown",
      "metadata": {
        "id": "SRzpsWN5kgu8"
      },
      "source": [
        "Make changes below to describe what is needed."
      ]
    },
    {
      "cell_type": "markdown",
      "metadata": {
        "id": "OIAdqGhhkVti"
      },
      "source": [
        "## **Runnable**"
      ]
    },
    {
      "cell_type": "markdown",
      "metadata": {
        "id": "ztOjXHDQZhGM"
      },
      "source": [
        "***Organisation - Taken from front end***"
      ]
    },
    {
      "cell_type": "code",
      "metadata": {
        "id": "70Yx842f_Wmf"
      },
      "source": [
        "requireTopTierEducation = False\n",
        "preferBankExperience = False\n",
        "min_criteria = 80\n",
        "requiredEducation = \"Bachelors of engineering \"\n",
        "requiredSkills = \"Informatica Power Center 9.1.0/8.6.1,Shell scripting, SQL Server, Toad, Oracle 11g/10g/9i, Teradata, SQL, PL/SQL.\"\n",
        "goodtohaveskills= \"Unix, Main frame\"\n",
        "requiredExperience = \"Experience: 5 – 9 years 1. Good understanding of Data Warehousing Concepts, Database design 2. Experience in ETL development and data migration experience. 3. Strong working experience on informatica power center tools 4. Experience on Teradata database, Tools & utilities 5. Strong experience in SQL and Stored procedures 6. Experience on Performance tuning on both Informatica and Teradata platform. 7. Good knowledge on shell scripting 8. Knowledge on GIT, any scheduling tool, Reporting environment 9. knowledge on the CICD process 10. Good to have exposure to Banking domain. 11. Understanding of Agile practices, Good knowledge on scrum and agile methodologies. 12. Experience and willingness to work in production environment.\"\n",
        "requirementCorpus = requiredEducation + requiredSkills + requiredExperience"
      ],
      "execution_count": 49,
      "outputs": []
    },
    {
      "cell_type": "markdown",
      "metadata": {
        "id": "0QzxmqnGY4Gg"
      },
      "source": [
        "***Candidates - Taken from Resume***"
      ]
    },
    {
      "cell_type": "code",
      "metadata": {
        "colab": {
          "base_uri": "https://localhost:8080/",
          "height": 490,
          "referenced_widgets": [
            "990d26dd5e8943d491ced862d2cd992a",
            "e93d2cc8231d42478735b53a39cd3ac7",
            "4a5640ef35c049da9fd065a7963c02fa",
            "a78b251f9be04269b421d09b99eb01d2",
            "5247aea36ed7458891eb791872bb8f7f",
            "c585e9df89f44dfc9a32b6133f09aef6",
            "34981dd9c9b64d11b1ac66fe94b5e200",
            "0351fe9689d94f40aa25bb31977d74ed",
            "07c0b46506124470bf8bee5a8e0bd5e3",
            "db071ae6abe442d885a5afcfbb775943",
            "a7f6a1b12a7f4ee786913ea25f17617a"
          ]
        },
        "id": "D4zsdLH1Ek4g",
        "outputId": "13dae5bc-cc73-4e9e-ada1-1858b8a1f43f"
      },
      "source": [
        "#Start Job\n",
        "initJob(requireTopTierEducation,preferBankExperience,requirementCorpus,prefer)"
      ],
      "execution_count": 111,
      "outputs": [
        {
          "output_type": "display_data",
          "data": {
            "application/vnd.jupyter.widget-view+json": {
              "model_id": "990d26dd5e8943d491ced862d2cd992a",
              "version_minor": 0,
              "version_major": 2
            },
            "text/plain": [
              "  0%|          | 0/6 [00:00<?, ?it/s]"
            ]
          },
          "metadata": {}
        },
        {
          "output_type": "stream",
          "name": "stdout",
          "text": [
            "Has partial skills \n",
            "Has partial Optional skills\n",
            "[68, 'Yesuraju.pdf', 'FAILED']\n",
            "---------------------------------------------\n",
            "Has partial skills \n",
            "Has partial Optional skills\n",
            "[72, 'RakeshM.pdf', 'Manual review needed']\n",
            "---------------------------------------------\n",
            "Has partial skills \n",
            "Does not have the Optional skills\n",
            "[78, 'SivaKumar.pdf', 'Manual review needed']\n",
            "---------------------------------------------\n",
            "Has partial skills \n",
            "Has partial Optional skills\n",
            "[78, 'Galla Renuka.pdf', 'Manual review needed']\n",
            "---------------------------------------------\n",
            "Has partial skills \n",
            "Has all the Optional skills\n",
            "[62, 'VaraPrasad.pdf', 'FAILED']\n",
            "---------------------------------------------\n",
            "Has partial skills \n",
            "Has partial Optional skills\n",
            "[75, 'Anamala SandeepReddy.pdf', 'Manual review needed']\n",
            "---------------------------------------------\n"
          ]
        }
      ]
    }
  ]
}