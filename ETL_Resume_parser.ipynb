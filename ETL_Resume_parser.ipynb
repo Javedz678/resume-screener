{
  "nbformat": 4,
  "nbformat_minor": 0,
  "metadata": {
    "colab": {
      "name": "ETL Resume parser.ipynb",
      "provenance": [],
      "collapsed_sections": [],
      "include_colab_link": true
    },
    "kernelspec": {
      "name": "python3",
      "display_name": "Python 3"
    },
    "language_info": {
      "name": "python"
    },
    "widgets": {
      "application/vnd.jupyter.widget-state+json": {
        "00551dcebf1844f6a83baccc9b9bb52e": {
          "model_module": "@jupyter-widgets/controls",
          "model_name": "HBoxModel",
          "model_module_version": "1.5.0",
          "state": {
            "_view_name": "HBoxView",
            "_dom_classes": [],
            "_model_name": "HBoxModel",
            "_view_module": "@jupyter-widgets/controls",
            "_model_module_version": "1.5.0",
            "_view_count": null,
            "_view_module_version": "1.5.0",
            "box_style": "",
            "layout": "IPY_MODEL_f9ef8dffd6df4f3e96960e6acbad8e68",
            "_model_module": "@jupyter-widgets/controls",
            "children": [
              "IPY_MODEL_7bb9888a7dac43daaa7ade3e379bfd0f",
              "IPY_MODEL_a4cef93efe564afbb4f5376821324b08",
              "IPY_MODEL_0baa05f5369844d1820711f78b3120b8"
            ]
          }
        },
        "f9ef8dffd6df4f3e96960e6acbad8e68": {
          "model_module": "@jupyter-widgets/base",
          "model_name": "LayoutModel",
          "model_module_version": "1.2.0",
          "state": {
            "_view_name": "LayoutView",
            "grid_template_rows": null,
            "right": null,
            "justify_content": null,
            "_view_module": "@jupyter-widgets/base",
            "overflow": null,
            "_model_module_version": "1.2.0",
            "_view_count": null,
            "flex_flow": null,
            "width": null,
            "min_width": null,
            "border": null,
            "align_items": null,
            "bottom": null,
            "_model_module": "@jupyter-widgets/base",
            "top": null,
            "grid_column": null,
            "overflow_y": null,
            "overflow_x": null,
            "grid_auto_flow": null,
            "grid_area": null,
            "grid_template_columns": null,
            "flex": null,
            "_model_name": "LayoutModel",
            "justify_items": null,
            "grid_row": null,
            "max_height": null,
            "align_content": null,
            "visibility": null,
            "align_self": null,
            "height": null,
            "min_height": null,
            "padding": null,
            "grid_auto_rows": null,
            "grid_gap": null,
            "max_width": null,
            "order": null,
            "_view_module_version": "1.2.0",
            "grid_template_areas": null,
            "object_position": null,
            "object_fit": null,
            "grid_auto_columns": null,
            "margin": null,
            "display": null,
            "left": null
          }
        },
        "7bb9888a7dac43daaa7ade3e379bfd0f": {
          "model_module": "@jupyter-widgets/controls",
          "model_name": "HTMLModel",
          "model_module_version": "1.5.0",
          "state": {
            "_view_name": "HTMLView",
            "style": "IPY_MODEL_b85402175d7d422eaef11c723e99b00c",
            "_dom_classes": [],
            "description": "",
            "_model_name": "HTMLModel",
            "placeholder": "​",
            "_view_module": "@jupyter-widgets/controls",
            "_model_module_version": "1.5.0",
            "value": "100%",
            "_view_count": null,
            "_view_module_version": "1.5.0",
            "description_tooltip": null,
            "_model_module": "@jupyter-widgets/controls",
            "layout": "IPY_MODEL_cab2856386f14514831bf3512a124c3b"
          }
        },
        "a4cef93efe564afbb4f5376821324b08": {
          "model_module": "@jupyter-widgets/controls",
          "model_name": "FloatProgressModel",
          "model_module_version": "1.5.0",
          "state": {
            "_view_name": "ProgressView",
            "style": "IPY_MODEL_6bdc2eb386e64981a9f843388a842bba",
            "_dom_classes": [],
            "description": "",
            "_model_name": "FloatProgressModel",
            "bar_style": "success",
            "max": 6,
            "_view_module": "@jupyter-widgets/controls",
            "_model_module_version": "1.5.0",
            "value": 6,
            "_view_count": null,
            "_view_module_version": "1.5.0",
            "orientation": "horizontal",
            "min": 0,
            "description_tooltip": null,
            "_model_module": "@jupyter-widgets/controls",
            "layout": "IPY_MODEL_fe929b0528a54f32ab9c921dffa87c9a"
          }
        },
        "0baa05f5369844d1820711f78b3120b8": {
          "model_module": "@jupyter-widgets/controls",
          "model_name": "HTMLModel",
          "model_module_version": "1.5.0",
          "state": {
            "_view_name": "HTMLView",
            "style": "IPY_MODEL_fd46015d667a4af8927b90c702267bea",
            "_dom_classes": [],
            "description": "",
            "_model_name": "HTMLModel",
            "placeholder": "​",
            "_view_module": "@jupyter-widgets/controls",
            "_model_module_version": "1.5.0",
            "value": " 6/6 [00:34&lt;00:00,  5.66s/it]",
            "_view_count": null,
            "_view_module_version": "1.5.0",
            "description_tooltip": null,
            "_model_module": "@jupyter-widgets/controls",
            "layout": "IPY_MODEL_5bc9330197fc4284b6cb73d5125cb535"
          }
        },
        "b85402175d7d422eaef11c723e99b00c": {
          "model_module": "@jupyter-widgets/controls",
          "model_name": "DescriptionStyleModel",
          "model_module_version": "1.5.0",
          "state": {
            "_view_name": "StyleView",
            "_model_name": "DescriptionStyleModel",
            "description_width": "",
            "_view_module": "@jupyter-widgets/base",
            "_model_module_version": "1.5.0",
            "_view_count": null,
            "_view_module_version": "1.2.0",
            "_model_module": "@jupyter-widgets/controls"
          }
        },
        "cab2856386f14514831bf3512a124c3b": {
          "model_module": "@jupyter-widgets/base",
          "model_name": "LayoutModel",
          "model_module_version": "1.2.0",
          "state": {
            "_view_name": "LayoutView",
            "grid_template_rows": null,
            "right": null,
            "justify_content": null,
            "_view_module": "@jupyter-widgets/base",
            "overflow": null,
            "_model_module_version": "1.2.0",
            "_view_count": null,
            "flex_flow": null,
            "width": null,
            "min_width": null,
            "border": null,
            "align_items": null,
            "bottom": null,
            "_model_module": "@jupyter-widgets/base",
            "top": null,
            "grid_column": null,
            "overflow_y": null,
            "overflow_x": null,
            "grid_auto_flow": null,
            "grid_area": null,
            "grid_template_columns": null,
            "flex": null,
            "_model_name": "LayoutModel",
            "justify_items": null,
            "grid_row": null,
            "max_height": null,
            "align_content": null,
            "visibility": null,
            "align_self": null,
            "height": null,
            "min_height": null,
            "padding": null,
            "grid_auto_rows": null,
            "grid_gap": null,
            "max_width": null,
            "order": null,
            "_view_module_version": "1.2.0",
            "grid_template_areas": null,
            "object_position": null,
            "object_fit": null,
            "grid_auto_columns": null,
            "margin": null,
            "display": null,
            "left": null
          }
        },
        "6bdc2eb386e64981a9f843388a842bba": {
          "model_module": "@jupyter-widgets/controls",
          "model_name": "ProgressStyleModel",
          "model_module_version": "1.5.0",
          "state": {
            "_view_name": "StyleView",
            "_model_name": "ProgressStyleModel",
            "description_width": "",
            "_view_module": "@jupyter-widgets/base",
            "_model_module_version": "1.5.0",
            "_view_count": null,
            "_view_module_version": "1.2.0",
            "bar_color": null,
            "_model_module": "@jupyter-widgets/controls"
          }
        },
        "fe929b0528a54f32ab9c921dffa87c9a": {
          "model_module": "@jupyter-widgets/base",
          "model_name": "LayoutModel",
          "model_module_version": "1.2.0",
          "state": {
            "_view_name": "LayoutView",
            "grid_template_rows": null,
            "right": null,
            "justify_content": null,
            "_view_module": "@jupyter-widgets/base",
            "overflow": null,
            "_model_module_version": "1.2.0",
            "_view_count": null,
            "flex_flow": null,
            "width": null,
            "min_width": null,
            "border": null,
            "align_items": null,
            "bottom": null,
            "_model_module": "@jupyter-widgets/base",
            "top": null,
            "grid_column": null,
            "overflow_y": null,
            "overflow_x": null,
            "grid_auto_flow": null,
            "grid_area": null,
            "grid_template_columns": null,
            "flex": null,
            "_model_name": "LayoutModel",
            "justify_items": null,
            "grid_row": null,
            "max_height": null,
            "align_content": null,
            "visibility": null,
            "align_self": null,
            "height": null,
            "min_height": null,
            "padding": null,
            "grid_auto_rows": null,
            "grid_gap": null,
            "max_width": null,
            "order": null,
            "_view_module_version": "1.2.0",
            "grid_template_areas": null,
            "object_position": null,
            "object_fit": null,
            "grid_auto_columns": null,
            "margin": null,
            "display": null,
            "left": null
          }
        },
        "fd46015d667a4af8927b90c702267bea": {
          "model_module": "@jupyter-widgets/controls",
          "model_name": "DescriptionStyleModel",
          "model_module_version": "1.5.0",
          "state": {
            "_view_name": "StyleView",
            "_model_name": "DescriptionStyleModel",
            "description_width": "",
            "_view_module": "@jupyter-widgets/base",
            "_model_module_version": "1.5.0",
            "_view_count": null,
            "_view_module_version": "1.2.0",
            "_model_module": "@jupyter-widgets/controls"
          }
        },
        "5bc9330197fc4284b6cb73d5125cb535": {
          "model_module": "@jupyter-widgets/base",
          "model_name": "LayoutModel",
          "model_module_version": "1.2.0",
          "state": {
            "_view_name": "LayoutView",
            "grid_template_rows": null,
            "right": null,
            "justify_content": null,
            "_view_module": "@jupyter-widgets/base",
            "overflow": null,
            "_model_module_version": "1.2.0",
            "_view_count": null,
            "flex_flow": null,
            "width": null,
            "min_width": null,
            "border": null,
            "align_items": null,
            "bottom": null,
            "_model_module": "@jupyter-widgets/base",
            "top": null,
            "grid_column": null,
            "overflow_y": null,
            "overflow_x": null,
            "grid_auto_flow": null,
            "grid_area": null,
            "grid_template_columns": null,
            "flex": null,
            "_model_name": "LayoutModel",
            "justify_items": null,
            "grid_row": null,
            "max_height": null,
            "align_content": null,
            "visibility": null,
            "align_self": null,
            "height": null,
            "min_height": null,
            "padding": null,
            "grid_auto_rows": null,
            "grid_gap": null,
            "max_width": null,
            "order": null,
            "_view_module_version": "1.2.0",
            "grid_template_areas": null,
            "object_position": null,
            "object_fit": null,
            "grid_auto_columns": null,
            "margin": null,
            "display": null,
            "left": null
          }
        }
      }
    }
  },
  "cells": [
    {
      "cell_type": "markdown",
      "metadata": {
        "id": "view-in-github",
        "colab_type": "text"
      },
      "source": [
        "<a href=\"https://colab.research.google.com/github/Javedz678/resume-screener/blob/main/ETL_Resume_parser.ipynb\" target=\"_parent\"><img src=\"https://colab.research.google.com/assets/colab-badge.svg\" alt=\"Open In Colab\"/></a>"
      ]
    },
    {
      "cell_type": "markdown",
      "metadata": {
        "id": "mshkGFk-zpSK"
      },
      "source": [
        "<h1>Extract text from resume</h1>"
      ]
    },
    {
      "cell_type": "code",
      "metadata": {
        "id": "3LWno_t_fDSl"
      },
      "source": [
        "!pip install sentence_transformers\n",
        "!pip install pyresparser\n",
        "!python -m spacy download en_core_web_sm\n",
        "!pip install spacy\n",
        "!pip install gingerit"
      ],
      "execution_count": null,
      "outputs": []
    },
    {
      "cell_type": "code",
      "metadata": {
        "id": "NXAAl7P18fF1"
      },
      "source": [
        "import string\n",
        "import re\n",
        "import nltk\n",
        "import statistics\n",
        "from nltk.corpus import stopwords\n",
        "from nltk.tokenize import word_tokenize\n",
        "from nltk.stem import WordNetLemmatizer\n",
        "from sklearn.metrics.pairwise import cosine_similarity\n",
        "from sklearn.feature_extraction.text import TfidfVectorizer\n",
        "from sentence_transformers import SentenceTransformer\n",
        "from tabulate import tabulate\n",
        "import pandas as pd\n",
        "import matplotlib.pyplot as plt\n",
        "import numpy as np\n",
        "import math\n",
        "import os\n",
        "from tqdm import tqdm\n",
        "import en_core_web_sm\n",
        "nltk.download('stopwords')\n",
        "nltk.download('punkt')\n",
        "nltk.download('wordnet')\n",
        "os.chdir(\"/content/resume/\")\n",
        "from pyresparser import ResumeParser\n",
        "from gingerit.gingerit import GingerIt\n",
        "import json"
      ],
      "execution_count": null,
      "outputs": []
    },
    {
      "cell_type": "code",
      "metadata": {
        "id": "uIygNDiCNTz4"
      },
      "source": [
        "from tqdm.notebook import tqdm_notebook"
      ],
      "execution_count": 4,
      "outputs": []
    },
    {
      "cell_type": "code",
      "metadata": {
        "id": "3FEmK3jY9ffJ"
      },
      "source": [
        "#Parsing\n",
        "def parse(path2file):\n",
        "  return ResumeParser(path2file).get_extracted_data()"
      ],
      "execution_count": 5,
      "outputs": []
    },
    {
      "cell_type": "code",
      "metadata": {
        "id": "0MWpAKTH9xkp"
      },
      "source": [
        "def start():\n",
        "  resume_list = os.listdir()\n",
        "  for resume in resume_list:\n",
        "    print(\"Parsing.....\")\n",
        "    parse(resume)"
      ],
      "execution_count": 6,
      "outputs": []
    },
    {
      "cell_type": "code",
      "metadata": {
        "id": "0eetRhWi-zjQ"
      },
      "source": [
        "#Global arrays\n",
        "score_array=[]\n",
        "master_records= []\n",
        "top_institutes = [\"IIT\",\"NIT\",\"IIIT\",\"BITS\"]\n",
        "equvalent_courses = [\"B.E\",\"MSC\",\"MCA\",\"B.Tech\",\"Bachelors\",\"Information science\",\"AI\",\"ML\"]\n",
        "top_banks = [\"JP Morgan\",\"Goldman sachs\",\"Axis bank\",\"HSBC\",\"VISA\",\"PayPal\",\"PWC\",\"HDFC Bank\"]\n",
        "prefer = False"
      ],
      "execution_count": 7,
      "outputs": []
    },
    {
      "cell_type": "markdown",
      "metadata": {
        "id": "zzCy5E8x9TDI"
      },
      "source": [
        "Data cleaning"
      ]
    },
    {
      "cell_type": "code",
      "metadata": {
        "id": "663W_YuQFqXx"
      },
      "source": [
        "def start(actual,expected):\n",
        "  removeStopwords(actual,expected)"
      ],
      "execution_count": 8,
      "outputs": []
    },
    {
      "cell_type": "code",
      "metadata": {
        "id": "Z4rbZlP3Pdq9"
      },
      "source": [
        "def checkTopInstitutes(education,requiredEducation):\n",
        "  for institute in top_institutes:\n",
        "    if institute in education:\n",
        "      education = requiredEducation\n",
        "      break\n",
        "    else:\n",
        "      education.join(',')"
      ],
      "execution_count": 9,
      "outputs": []
    },
    {
      "cell_type": "code",
      "metadata": {
        "id": "d9EqVflxaIPl"
      },
      "source": [
        "def checkEquvalentCourses(education,requiredEducation):\n",
        "  for course in equvalent_courses:\n",
        "    if course in education:\n",
        "      education = requiredEducation\n",
        "    else:\n",
        "      education.join(',')"
      ],
      "execution_count": 10,
      "outputs": []
    },
    {
      "cell_type": "code",
      "metadata": {
        "id": "QF_3Fp_M9w5u"
      },
      "source": [
        "def preferExperience(candidateExperience):\n",
        "  candidateExperience = candidateExperience.split()\n",
        "  for bank in top_banks:\n",
        "    if bank in candidateExperience:\n",
        "      return True"
      ],
      "execution_count": 11,
      "outputs": []
    },
    {
      "cell_type": "code",
      "metadata": {
        "id": "8ukvHBI1CQKh"
      },
      "source": [
        "def removeStopwords(actual,expected):\n",
        "  stop_words = set(stopwords.words('english'))\n",
        "  candidateExperienceTokens = word_tokenize(actual)\n",
        "  requiredExperienceTokens = word_tokenize(expected)\n",
        "  cleanCandidateExperience = [word for word in candidateExperienceTokens if not word in stopwords.words()]\n",
        "  cleanrequiredExperience = [word for word in requiredExperienceTokens if not word in stopwords.words()]\n",
        "  lemmatisation(cleanCandidateExperience,cleanrequiredExperience)"
      ],
      "execution_count": 12,
      "outputs": []
    },
    {
      "cell_type": "code",
      "metadata": {
        "id": "7QejjxgGClqI"
      },
      "source": [
        "def lemmatisation(actual,expected):\n",
        "  CandidateExperience = ' '.join(map(str, actual))\n",
        "  RequiredExperience = ' '.join(map(str, expected))\n",
        "  lemmatizer = WordNetLemmatizer()\n",
        "  lemCandidateExperience =lemmatizer.lemmatize(CandidateExperience)\n",
        "  lemRequiredExperience = lemmatizer.lemmatize(RequiredExperience)\n",
        "  removePunctuation(lemCandidateExperience,lemRequiredExperience)"
      ],
      "execution_count": 13,
      "outputs": []
    },
    {
      "cell_type": "code",
      "metadata": {
        "id": "gET18yibCzMi"
      },
      "source": [
        "def removePunctuation(actual,expected):\n",
        "  noPunCandidateExperience = \"\"\n",
        "  noPunRequiredExperience = \"\"\n",
        "  for character in actual:\n",
        "      if character.isalnum():\n",
        "          noPunCandidateExperience += character\n",
        "      else:\n",
        "        noPunCandidateExperience += \" \"\n",
        "        \n",
        "  for character in expected:\n",
        "      if character.isalnum():\n",
        "          noPunRequiredExperience += character\n",
        "      else:\n",
        "        noPunRequiredExperience += \" \"\n",
        "  model(noPunCandidateExperience,noPunRequiredExperience)"
      ],
      "execution_count": 14,
      "outputs": []
    },
    {
      "cell_type": "code",
      "metadata": {
        "id": "LuQ2dMw_mZpM"
      },
      "source": [
        "def drawPieChart():\n",
        "  y=[]\n",
        "  for i in range(len(score_array)):\n",
        "    if(i==2):\n",
        "      y.append(score_array[i]*1.5)\n",
        "    else:\n",
        "      y.append(score_array[i])\n",
        "  mylabels = [\"Skills\", \"Education\", \"Experience\"]\n",
        "  explode = (0, 0, 0.1 ) \n",
        "  plt.pie(y, labels = mylabels, explode=explode, shadow=True)\n",
        "  plt.title(\"Distribution of attributes of the Candidate.\")\n",
        "  plt.show() "
      ],
      "execution_count": 15,
      "outputs": []
    },
    {
      "cell_type": "code",
      "metadata": {
        "id": "zO_VOk5yYOMa"
      },
      "source": [
        "#Process prequesit requirements \n",
        "def processPrequesits(requireTopTierEducation,preferBankExperience):\n",
        "  if(requireTopTierEducation):\n",
        "    requiredEducation = \"BE in computer science from\" + ' '.join([str(elem) for elem in top_institutes])\n",
        "    checkTopInstitutes(education,requiredEducation)\n",
        "  else:\n",
        "    requiredEducation = \"BE in computer science \"\n",
        "    checkEquvalentCourses(education,requiredEducation)\n",
        "  if(preferBankExperience):\n",
        "    hasPreferance = preferExperience(candidateExperience)\n",
        "    if(hasPreferance):\n",
        "      prefer = True\n",
        "  return requiredEducation"
      ],
      "execution_count": 16,
      "outputs": []
    },
    {
      "cell_type": "code",
      "metadata": {
        "id": "BsEmRIJj_P7S"
      },
      "source": [
        "def initJob(requireTopTierEducation,preferBankExperience,requirementCorpus,prefer = False):\n",
        "  #requiredEducation = processPrequesits(requireTopTierEducation,preferBankExperience)\n",
        "  resume_list = os.listdir()\n",
        "  for resume in tqdm_notebook(resume_list):\n",
        "    obj = parse(resume)\n",
        "    data = obj.get('experience')\n",
        "    print(data)\n",
        "    candidateCorpus = \"\".join(data)\n",
        "    sentenceTranformerModel(candidateCorpus.lower(),requirementCorpus.lower())\n",
        "    analytics(resume,prefer)\n",
        "    \n",
        "  #drawPieChart()\n",
        "  #analytics(prefer)"
      ],
      "execution_count": 24,
      "outputs": []
    },
    {
      "cell_type": "code",
      "metadata": {
        "id": "-Py5xiNkipjG"
      },
      "source": [
        "def analytics(name,prefer = False):\n",
        "  avg = score_array[0]\n",
        "  score_array.append(name)\n",
        "  if(avg>min_criteria):\n",
        "    score_array.append(\"PASSED\")\n",
        "  elif(avg>70 and avg<min_criteria):\n",
        "    score_array.append(\"Manual review needed\")\n",
        "  else:\n",
        "    score_array.append(\"FAILED\")\n",
        "\n",
        "  if(prefer):\n",
        "    score_array.append(\"Has banking experience.\")\n",
        "  print(score_array)\n",
        "  score_array.clear()"
      ],
      "execution_count": 18,
      "outputs": []
    },
    {
      "cell_type": "code",
      "metadata": {
        "id": "CXX62uSbItyF"
      },
      "source": [
        "def showTable():\n",
        "  print(master_records)\n",
        "  #print(tabulate(master_records, headers=[\"Resume score\",\"Automatic screening\",\"Insights\"]))"
      ],
      "execution_count": 19,
      "outputs": []
    },
    {
      "cell_type": "markdown",
      "metadata": {
        "id": "M4B5c8lk57u-"
      },
      "source": [
        "<h3>Modelling</h3>"
      ]
    },
    {
      "cell_type": "code",
      "metadata": {
        "id": "5gHmNKlBVMJg"
      },
      "source": [
        "def sentenceTranformerModel(actual,expected):\n",
        "  modelName = \"bert-base-nli-mean-tokens\"\n",
        "  model = SentenceTransformer(modelName)\n",
        "  vectorA = model.encode([actual])\n",
        "  vectorB = model.encode([expected])\n",
        "  similarity_index = cosine_similarity(vectorB, vectorA)\n",
        "  final_score = similarity_index[0][0]*100\n",
        "  score_array.append(int(final_score))"
      ],
      "execution_count": 26,
      "outputs": []
    },
    {
      "cell_type": "markdown",
      "metadata": {
        "id": "JCx4SrobHAEE"
      },
      "source": [
        "<h3>Analysis</h3>\n"
      ]
    },
    {
      "cell_type": "markdown",
      "metadata": {
        "id": "SRzpsWN5kgu8"
      },
      "source": [
        "Make changes below to describe what is needed."
      ]
    },
    {
      "cell_type": "markdown",
      "metadata": {
        "id": "OIAdqGhhkVti"
      },
      "source": [
        "## **Runnable**"
      ]
    },
    {
      "cell_type": "markdown",
      "metadata": {
        "id": "ztOjXHDQZhGM"
      },
      "source": [
        "***Organisation - Taken from front end***"
      ]
    },
    {
      "cell_type": "code",
      "metadata": {
        "id": "70Yx842f_Wmf"
      },
      "source": [
        "requireTopTierEducation = False\n",
        "preferBankExperience = False\n",
        "min_criteria = 80\n",
        "requiredEducation = \"Bachelors of engineering \"\n",
        "requiredSkills = \" Java, REACT JS, Spring, Hibernate, CI/ CD, Docker, Kubernetes, Public Cloud (Azure), SQL, Web technologies.\"\n",
        "requiredExperience = \"Experience: 5 – 9 years 1. Good understanding of Data Warehousing Concepts, Database design 2. Experience in ETL development and data migration experience. 3. Strong working experience on informatica power center tools 4. Experience on Teradata database, Tools & utilities 5. Strong experience in SQL and Stored procedures 6. Experience on Performance tuning on both Informatica and Teradata platform. 7. Good knowledge on shell scripting 8. Knowledge on GIT, any scheduling tool, Reporting environment 9. knowledge on the CICD process 10. Good to have exposure to Banking domain. 11. Understanding of Agile practices, Good knowledge on scrum and agile methodologies. 12. Experience and willingness to work in production environment.\"\n",
        "requirementCorpus = requiredEducation + requiredSkills + requiredExperience"
      ],
      "execution_count": 21,
      "outputs": []
    },
    {
      "cell_type": "markdown",
      "metadata": {
        "id": "0QzxmqnGY4Gg"
      },
      "source": [
        "***Candidates - Taken from Resume***"
      ]
    },
    {
      "cell_type": "code",
      "metadata": {
        "colab": {
          "base_uri": "https://localhost:8080/",
          "height": 289,
          "referenced_widgets": [
            "00551dcebf1844f6a83baccc9b9bb52e",
            "f9ef8dffd6df4f3e96960e6acbad8e68",
            "7bb9888a7dac43daaa7ade3e379bfd0f",
            "a4cef93efe564afbb4f5376821324b08",
            "0baa05f5369844d1820711f78b3120b8",
            "b85402175d7d422eaef11c723e99b00c",
            "cab2856386f14514831bf3512a124c3b",
            "6bdc2eb386e64981a9f843388a842bba",
            "fe929b0528a54f32ab9c921dffa87c9a",
            "fd46015d667a4af8927b90c702267bea",
            "5bc9330197fc4284b6cb73d5125cb535"
          ]
        },
        "id": "D4zsdLH1Ek4g",
        "outputId": "a6489217-2326-48f2-d4a9-0ad992af946d"
      },
      "source": [
        "#Start Job\n",
        "initJob(requireTopTierEducation,preferBankExperience,requirementCorpus,prefer)"
      ],
      "execution_count": 27,
      "outputs": [
        {
          "output_type": "display_data",
          "data": {
            "application/vnd.jupyter.widget-view+json": {
              "model_id": "00551dcebf1844f6a83baccc9b9bb52e",
              "version_minor": 0,
              "version_major": 2
            },
            "text/plain": [
              "  0%|          | 0/6 [00:00<?, ?it/s]"
            ]
          },
          "metadata": {}
        },
        {
          "output_type": "stream",
          "name": "stdout",
          "text": [
            "['Worked as a Software Trainee at Tetrasoft India Private Limited, Hyderabad from Dec 2016 To', 'September 2017.', 'Working as Software Engineer at Wipro Technologies Ltd from November 2017 to till date.', 'Project Details:', '#Profect2', 'Client', 'Project', 'Description', 'Role', 'Tools', 'Team Size', 'Duration', 'One of the Leading Finance Company', '( GE Consumer Finance)', 'GE consumer finance is a finance company which will sell the products like credit', 'cards,personal loans, sales finance,insurance,auto etc to the borrowers like individual', 'customers or business entities through distribution channels like', 'Retailers,Telemarkets,Internet,Mail Consumer finance is a set of activities between Lenders', 'like Banks, Business entities like GE and Borrower like Individual customers.', 'Software Engineer', 'Informatica 9.5.1,10.1, Oracle, Pl/sql, Sql, Unix, DWH,Main frame,Service now,Teradata', '5', 'Nov 2017 – Till', 'Roles and Responsibilities:', 'Involved in all phases of SDLC from requirement gathering, design, development, testing, Production,', 'user training and support for production environment', 'Involved in creation of design documents like LLD and HLD', 'Analyzing existing system and requirement gathering', 'Extract data from multiple source formats, including Relational Databases and Flat Files', 'Create mapping designs using various tools in Informatica Designer like Source Analyzer, Mapplet', 'Designer and Mapping Designer', 'Performed data manipulations using various Informatica Transformations like Filter, Expression, Lookup', '(Connected and Un-Connected), Aggregate, Update Strategy, Joiner, Router, Sorter and Union', 'Clean extracted data to ensure data integrity and eliminate redundant and incomplete data', 'Load transformed data into a customized data base in a manner that aligns with the client’s unique data', 'storage need', 'Provide ongoing support and troubleshooting', 'Performance tune poorly running logic and data transformations', '#Project 1', 'United  HealthCare System, US', 'Client', 'Project', 'Description', 'United Health Care System is a total health care management system, which manages the', 'total patient information maintained in three different modules. Patient Information,', 'Accounts Information, Monitoring. The Patient information module contains the patient', 'details, up to dated health information. In the Accounts Information module day-to-day bill', 'settlements will be entered in to the online system. In Monitoring, it monitors from the day', 'one to discharge date of the patient and Case Sheet will be maintained which is confidential.', 'Software Trainee', 'Informatica 9.1, Oracle, Unix', '7', 'Dec 2016– Sep 2017', 'Role', 'Tools', 'Team Size', 'Duration', 'Responsibilities:', 'Gathering the requirements from client and onsite coordinator.', 'Complete Analysis on business requirement and finalizing Design of the complete Cycle considering the', 'dependencies on other teams and reusable methodology used from the existing process.', 'Maintaining design documents, Business Requirement documents, and Production issue logs/statistics.', 'Performed data manipulations using various Informatica Transformations like Filter, Expression, Lookup', '(Connected and Un-Connected), Aggregate, Update Strategy, Joiner, Router, Sorter and Union', 'Providing Estimation for the completion of project.', 'Provided Technical support for Activities related to project', 'ETL development for Business derivations with Optimization and review for the existing code.', 'Creating UNIX ,for triggering the Workflow’s.', 'Preparing proper test case plan and validation document for DEV, QA, UAT and PROD', 'In-depth analysis of different data issues and business logic exceptions, and suggesting better solution to', 'client.', 'Declaration: I hereby declare that all the above given information is true as per my knowledge.', 'Place: Bangalore', '(Vara Prasad)']\n",
            "[63, 'VaraPrasad.pdf', 'FAILED']\n",
            "['•  Working at Wipro Technologies, Bangalore from Aug-2019 to till date.', '•', 'Worked at Mindtree Ltd., Bangalore from May-2017 to Aug-2019.', 'Educational Qualification:', 'Technical Skills:', '•  Completed B.Tech in Electronics & Communication from VT University, 2014.', ': SQL Developer, T-SQL, DAX and Putty, WINSCP', ': Informatica Power center 9.5/10.2, Informatica Cloud (IICS)', ': Oracle 10g/11g, MS SQL Server 2012, 2016', ': Power BI Desktop, Power BI Online Services, MSBI', 'Languages', 'ETL Tools', 'Databases', 'DWH/BI Tools', 'Operating Systems                   : Windows 2000/XP/07/10, UNIX.', 'PROJECT S SUMMARY:', 'Project #1', 'Project', 'Environment', 'Client', 'Description:', ': American Health services.', ': Informatics 10.2, Oracle11g', ': Presbyterian Health Care System, USA.', 'This Data Warehouse is constructed to stage the Sales & Distribution and Inventory related data for', 'Presbyterian  Pharmaceuticals  (Pharmaceuticals  and  Hospital  related  products).  These  applications', 'cater to provide data to various marketing groups of a major pharmaceutical company. The project', 'comprises  of  various  applications  across  various  platforms.  The  data  is  received  from  an  external', 'vendor, is processed and then loaded in various databases and supplied to the respective business', 'owners for further analysis and processing.', 'Responsibilities:', '•', '•', 'Involved in preparing DDL scripts to create Source and Target Structure.', 'Interact  with DA  and end  users  to  know  in  detail  requirements  and  develop  technical', 'specifications.', 'Involved in Estimation, analysis and designing of Informatica Workflows.', '•', '•  Convert  WSDL  source  files  into  XML  with  help  of  generated  Tokens  provided  by  the', 'Onshore Client team.', '•  By using web service transformation in IICS to convert into XML followed by landing area', '•', '(truncate/Load) and ODS (SCD type2).', 'With  the  help  of  DMD  (Design  mapping  Document),  implemented  SCD  type1  and  SCD', 'type2 to maintain historical results.', '•  Prepared unit test documents for data validation.', '•  Uploading  complete  code,  test  results  into  Team  foundation  server  (TFS  tool)  and', 'provided support for bug fixes in code at SIT phase.', 'Project #2', 'Project', 'Environment', 'Client', 'Description:', ': Mart (Price SSMT)', ': Power BI', ': Kanoo Transportation Management System (TMS)', 'Kanoo  Transportation  Management  System  (TMS)  is  designed  to  work  across  your  multi  modal', 'transport  network  and  manage  all  your  key  processes.  This  covers  shipment  order  management,', 'planning the order based on VSRC (Vehicle, Schedule, Routes and Constraints), load Planning, load', 'consolidation,  carrier  selection,  execution,  documentation  and  billing.  Kanoo  TMS  is  equally  and', 'highly proficient in orchestrating buy and sell sides of the logistics operations to ensure and sustain', 'maximum profitability and service levels.', 'Responsibilities:', '•  Responsible  for  defining  the  scope  of  the  project,  gathering  business  requirements,', '•', 'doing analysis and documents.', 'Imported  data  from  different  sources  like  csv,  excel  and  direct  query  to  SQL', 'server/analysis database and Building the relationships between the data sets in power', 'pivot.', '•  Created calculated measures and columns with DAX in MS POWER BI.', '•  Generated  matrix  reports,  drill  down,  drill  through,  sub  reports,  chart  reports  and', 'Dashboards.', 'Implemented Row Level security (RLS) on Power BI reports.', '•', '•  Data refreshes / User management and set up gateway data refresh.', '•  Published/shared the reports by creating Content Pack and apps.', '•  Use the Natural language query and receive answers in the form of charts.', '•  Created new columns, new measures and conditional columns using DAX functions.', '•  Created  different  filters  like  visual  level  filters  and  page  level  filters  and  report  level', 'filters and drill through filters as per reporting needs.', '•  Created  custom  report  tool  tips  for  different  reports  to  showcase  the  multiple  data', 'points in one report.', '•  Created various Customized and interactive Reports and Dashboards in Power BI.', '•  Publishing reports to Power BI service and implemented page level security.', 'Project #3', 'Project', 'Environment', 'Client', 'Description:', ':  GEMS.', ': Power BI', ':  Dell International Services', 'Dell Inc. Was a multinational computer technology company based on Round Rock, Texas and, along', 'with Dell EMC, is a Subsidiary of Dell Technologies, One of the largest technology companies in the', 'world. Scope of the project is to develop a dashboard with the help of data collected through Dell', 'facilities survey.', 'Responsibilities:', '•  Gathered project requirements and sample dash boards from facilities team.', '•', 'Imported data from various sources excel, csv and workday reports.', '•  Created calculated measures, columns and tables using DAX functions.', '•  Created various Customized and interactive Reports and Dashboards in Power BI.', '•  Use the Natural language query and receive answers in the form of charts.', '•  Published/shared the reports by creating Content Pack/Sharing the .pbix file.', '•  Prepared global dashboards with help of all the stakeholders.']\n",
            "[74, 'Anamala SandeepReddy.pdf', 'Manual review needed']\n",
            "['Educational Qualification:', 'WorkingatTech Mahindra (Tech-M), BangalorefromMarch 2017totilldate.', 'Completed BSCcomputers in S.V.University, Tirupati- 2016.', 'ETLTools', 'Databases', 'Tools', 'OperatingSystems', ':InformaticaPowerCenter 9.5/10.2.', ':Oracle10g/11g.', ':Toad andPutty.', ':Windows2000/XP/07, UNIX.', 'Technical Skills:', 'Project Profile:', 'Current Project:', 'Project', 'Environment', 'Client', 'Description:', 'Responsibilities:', ':AmericanHealthservices.', ': Informatica 10.2, Oracle11g,WindowsXP.', ':PresbyterianHealthCareSystem,USA.', 'for', 'This  Data  Warehouse  is  constructed  to  stage  the  Sales  &  Distribution  and  Inventory', 'relateddata', 'Hospital', 'relatedproducts).Theseapplicationscatertoprovidedatatovariousmarketinggroupsofamajorpha', 'rmaceuticalcompany.Theprojectcomprisesofvariousapplicationsacrossvariousplatforms.  The', 'data is received from an external vendor, is processed and then loaded invarious databases', 'and supplied to the respective business owners for further analysis andprocessing.', 'PresbyterianPharmaceuticals', '(Pharmaceuticalsand', 'UnderstandingtheBusinessRequirementsandDevelopanETLprocesstoload', 'datafromsourcetotarget.', 'Extensively used informatica power center for loading the data from', 'sourcesinvolvingflatfiles totargetasrelationaltable.', 'Mainly involved in ETL developing to Extract, Transform and Load the data into stagearea', 'anddatamart.', 'Extensively used different transformations like Source Qualifier, Expression, Lookup,Filter,', 'Update Strategy, Router, Normalizer, and Sequence Generator to', 'developDataMartfromstaging area.', 'Creationofsessions formappingandvalidatethesession.', 'Schedule and monitor the sessions workflows using informatica work flow', 'managerandworkflowmonitor,dailybasis.', 'UsingTargetLoadPlantooptimizetheperformanceoftheserver.', 'Identifythebugsin existingmapping byanalyzingthedataflow.', 'Responsiblefortestcasewritingandtesting.', 'PreparingMinutesofMeetingwithClient.', 'Project', 'Environment', 'Client                                        :AmericanPipelineProducts.', ':GEMS.', ':Informatica9.5,Oracle11,WindowsXP.', 'Thisprojectconcernsthenowdailygenerationofsince-last-', 'run(Incremental)dataextracts tosupportcommission’scalculationintheCommissions', 'systemapplication.Therewillbetwoextractfilesproducedeachday.', 'SalesandInstallsdatawillbegeneratedfororderlinesthatwillbebilledthroughSAPandin-', 'scopeOMBMorders.SeeBackgroundSectionoftheSalesandInstallsDataGenerationspecificatio', 'nforinformationonwhichSiebelRevenueType/ProductRevenueTypecombinationswillbeinclude', 'dintheCommissionssystemextract.', 'Project #2', 'Description:', 'Responsibilities:', 'InvolvedinCoding,Testing,Documentation,MaintenanceandApplicationSupport.', 'Understandingexistingbusinessmodelandcustomerrequirements.', 'Preparingdesigndocumentsformappingslikesourcetotargetmappingsheets.', 'Develop/Modify Informatica Mappings, Mapplets, Worklets, Workflows using parameterfiles.', 'PerformanceTuningofMappingswithmethodslikePortioning,LookupCachesetc.', 'Designing scripts for unit test cases and integrated test cases and', 'conductingreviews.', 'Deployment plan preparation o for the code migrationfrom Development to', 'Testenvironment.', 'InvolvedinunittestingandIntegrationtesting.', 'Project:#3', 'Project', 'Environment', 'Client', 'Description:', ':mart (PriceSSMT)', ':Informatica10.2,Oracle11g, Unix', ':PriceSmartInc(Latin America)', 'The client Price Smart Inc the  leading distributor of retail products. They sell a', 'varietyoffoodandconsumergoodswithanemphasisonquality,lowpricesandefficientoperati', 'ons.  The  product  portfolio  spans  across', 'the  entire  spectrum  of  domestic', 'consumptionincluding  Soaps,  Detergents,  Cleaning  Liquids,  Toothpastes,  Talcum', 'powders,  Shampoosetc.  The  product  and  sales  data  is  kept  at  their  respective', 'branches  and  the  data  is  collectedfrom  different  OLTP  systems  in  the  form  of', 'Daily/weekly,  monthly,  quarterly  and  yearly  basisfor  each  sales  region,  factory  or', 'branch  and  manually  collected  at  the  corporate  office  foraggregating  the  data  as  per', 'of', 'the', 'datamartforthesalesreportingsystem.Themainobjectiveoftheprojectistohelptheorganizati', 'on to improve the sales and get the knowledge of the new business opportunities.Data', 'from  Operational  Source  System  is  extracted,  transformed  and  loaded  into  data', 'martusinginformatica.', 'requirement.', 'involves', 'creation', 'project', 'report', 'This', 'the', 'Responsibilities:', 'Developingmappingstoloaddataindimensionsandfactsusingthetransformations', 'like', 'source  qualifier,  lookup  (connected,  unconnected),  updatestrategy,  router,  stored', 'procedure (connected, unconnected), aggregator, filter,Joiner,expression.', 'CreatedMapplets,Mappings,reusabletransformations&reusablesessions.', 'Managinghistoricaldatafromvariousheterogeneousdatasources(i.e, FlatfilesandOracle).', 'Developedcomplexmappings likeSCDType1andSCDType 2.', 'Developedsessionsandworkflows inworkflowmanager.', 'Configureddebuggertoperformtestrunonmappings.', 'Scheduledworkflows.', 'Usedworkflowmonitortomonitortasks,workflowsandtomonitorperformance.', 'DocumentedmappingandtransformationsinvolvedintheETLprocess.', 'Analyzedsessionlogs andworkflowlogs.', 'Analyzingpreviouslycreatedinvalidmappingsandfixedit.', 'Prepareddocumentslikemappingdocuments, designdocuments,UTP.', 'PerformedUnittestingas perUTC (Unittestcases).', 'Involvedinperformancetuningofsources,targets,mappings, andsessions.', 'Interacting with the Client for collecting the requirements and documenting', 'thesame.']\n",
            "[68, 'Yesuraju.pdf', 'FAILED']\n",
            "['development and implementation.', '•  Bachelor of Science in Computer from Sri Venkateswara university, Tirupathi in the year', 'EDUCATION:', '2011.', 'PROFESSIONAL EXPERIENCE:', 'TECHNICAL SKILLS:', '•  Working in Mphasis Bangalore from January 2014 to Aug-2019.', 'ETL Tool', 'Supporting tools', 'Databases', 'Operating Systems              : Windows /XP/07, UNIX,Sql', ':Informatica Power Center 9.0.1,9.6.1.', ':Putty, WinScp,Toad,Service Now,Git-Hub and Autosys.', ': Oracle 11g/10g', 'Ticketing Tools                       :  HP ALM and Rally tool.', 'Project #2:', 'Client                                   : Farmers Insurance', 'Project Name                     : CSS Staging', 'Duration', 'Environment', 'Project Description:', ': Aug-2017 to Aug-2019', ': Informatica Power Center 9.6,UNIX,Autosys,Sql', 'Farmers Insurance Group is an American insurer group of automobiles, homes and small', 'businesses and also provides other insurance and financial services products. It is a subsidiary of the', 'Swiss company Zurich Insurance Group.', 'Roles and Responsibilities:', '•  Developing the Informatica Mappings, sessions and workflows required to load the data into', 'oracle application from flat files and staging tables.', '•  Expertise in unit test, integration test of Informatica components.', '•  Analysing the problems and providing optimum solutions to Business.', '•  Expertise in tuning the mappings and sessions to optimize the performance.', '•  Responsible for working with the Data fixes team and supporting each other in all tasks.', '•  Expertise in writing Oracle Queries and Unix scripts to test and validate the data.', '•  Review the code and provide the comments.', '•', '•  Providing the support during the deployment phase.', '•  Migrating the code from one environment to other environment.', '•  Fixing defects raised during the integration and User acceptance testing.', '•  Perform root cause analysis on all processes and resolve all production issues.', 'Involved in support activities when the code moved to Production.', 'Project#1:                :Vodafone', 'Title                          : EVO-Vodafone', 'Project                     : Telecommunications', 'Environment', 'Project Duration    : Aug’2015 to July’2017.', 'Description:', ': Informatica Power Center  9.0.1, Oracle 9g,Sql', 'Vodafone  Group  plc', 'is  a  British  multinational  telecommunications  conglomerate,  with', 'headquarters  in  London.  It  operates  services  in  the  regions  of  Asia,  Africa,  Europe,  and  Oceania.', 'Among mobile operator groups globally, Vodafone ranked 4th (behind China Mobile, Bharti Airtel', 'and Vodafone  in the number of mobile customers.', 'Vodafone  owns  and  operates  networks  in  25  countries,  and  has  partner  networks  in  47  further', 'countries  Its  Vodafone  Global  Enterprise  division  provides  telecommunications  and  IT  services  to', 'corporate clients in 150 countries.', 'Responsibilities:', '•  Reviewed  requirements  (source  to  target  mappings)  documented  by  Business  Analyst  for', 'thorough understanding of the application.', '•  Analyzed  the  requirements  to  identify  the  necessary  tables  that  need  to  be  populated  into', 'the staging area.', '•  Created  mappings  using  transformations  like  Source  Qualifier,  Aggregator,  Expression,  Look', 'up, Router, Filter, Update Strategy, Joiner, Union and Normalizer.', '•  Used Workflow manager to create workflows, sessions and used various tasks like Command', '•', 'task, Decision task, Assignment task, Event wait task.', 'Involved in Query tuning and optimization process  which resulted improvement in the total', 'run time of the load process.', 'Involved in Performing peer reviews and Unit testing.', '•', '•  Used Parameter files to define values for parameters and variables used in mappings.', '•  Schedule and monitor the sessions work flows using Informatica work flow manager and work', 'flow monitor on daily basis.']\n",
            "[77, 'Galla Renuka.pdf', 'Manual review needed']\n",
            "['•  Currently Working as Informatica Developer in TCS, Bangalore from Aug 2018 to', 'B.Sc Computersfrom S.V.University, AP. 2018.', ': Informatica 10.1.1/9.6.1/9.5.1.', ': Oracle 9i/10g', ': Windows XP/ Windows 7,8.10.', ': SQL', ': Html', ': M.S.Office, Toad ,SQL Developer.', 'Working Organization:', 'till date.', 'Academic Qualification:', '•', 'Technical Skills:', 'ETL Tools', 'Database', 'Operating Systems', 'Programming', 'Web Technologies', 'Applications']\n",
            "[75, 'SivaKumar.pdf', 'Manual review needed']\n",
            "['Informatica Power Center to move data from multiple sources into target area.', '•  Developed mappings using multiple transformations like the Source qualifier, Update strategy, joiner, lookup,', 'Expression, Filter, Aggregator and Sequence generator.', '•  Configured  the  mappings  to  handle  the  updates  to  preserve  the  existing  records  using  Update  Strategy', '•  Developed mappings for Slowly Changing Dimensions and Incremental load.', '•  Developed Complex database objects like Stored Procedures, Functions, Packages and Triggers using SQL and', 'Transformation.', 'PL/SQL.', 'Involved in the Unit Testing, SIT and UAT.', '•  Created Views on multiple Tables.', '•  Worked on CRs assigned by onshore team.', '•  Excellent commitment, dedication and planning towards goal-oriented tasks.', '•', '•  Flexibility to work with new Technologies, applying thoughts in an effective manner.', '•  Good in on-call support for SQL and Informatica related issues.', '•  Supported production systems in all shifts in rotational basis.', '•  Exceeded the client expectations in resolving the tickets.', 'Qualification:', 'Technical Details:', 'ETL Tools', 'Database', 'Operating Systems', 'Programming', 'Supporting Tools', 'Completed B. Tech ECE from JNTU college of Engineering, Anantapur 2017.', ': Informatica Power Center 9.1/10.2', ': Oracle, Teradata', ': Windows, UNIX', ': C, SQL and PL/SQL, Shell Scripting', ': Toad, SQL Developer, Putty, WinSCP and Service now', 'Professional Experience:', 'Working as a Software Engineer for Accenture Solutions Pvt Ltd, from Jan 2018 to Till Date.', ':', ':', ':', ':', ':', 'Telenor FIJI', 'Informatica ETL Developer', '6', 'Informatica 10.2, WinSCP, Toad, Oracle, Teradata, UNIX', 'Aug 2020 to Till Date.', 'Project Profile:', 'Project #2', 'Project Name', 'Role', 'Team Size', 'Environment', 'Duration', 'Description:', 'Telenor  Group', 'telecommunications  company', \"headquartered at Fornebu close to Oslo. It is one of the world's largest mobile telecommunications companies with\", 'operations in Scandinavia, Eastern Europe and Asia. It has extensive broadband and TV distribution operations in four', 'Nordic  countries,  and  a  10-year-old  research  and  business  line  for  Machine-to-Machine  technology.  Telenor  owns', 'networks in 13 countries, and has operations in 29 countries.', 'The Telenor FIJI AD project is like Short Track stream to work on the Change Requests. This project involves the work', 'on the CRs like estimation, Analysis, Build, Test and Deployment to PROD.', 'Responsibilities:', 'is  a  Norwegian  mostly  government-owned  multinational', '•', 'Involved in the development activities of Informatica Code in the DEV and deploying the code to higher', 'environments like TEST.', '•  Build work in DEV environment and Unit Testing as well.', '•', 'Involved in the meetings with Onshore Architects to understand the requirements and proceeded on the', 'build according to the design.', '•  Worked on Enhancement changes with existing code in DEV environment.', '•  Worked with multiple subjective areas like Customer services, interactions, assignments, financial accounts,', '•', '•', '•', 'relationships, outlets, outlet employee, service team, contacts, entitlements, Leads & offers.', 'Involved in the support activities like monitoring the PROD jobs, recovering the failures of PROD jobs,', 'preparing the status reports and shared with Application owners.', 'Involved in preparing the understand documents and mapping documents.', 'Involved in knowledge sharing sessions with team members, design review presentations to the team across', 'the project.', ':  PGSDW, Pfizer USA', ':   ETL Informatica Developer', ':   5', ':  Informatica 9.1.0, Teradata, Oracle, UNIX', ':   Jan 2018 to Jul 2020.', 'Project #1', 'Project Name', 'Role', 'Team Size', 'Environment', 'Duration', 'Description:', 'Responsibilities', 'The Client is a leading pharma company in USA. Client has leading portfolio of products and medicines that support', 'wellness and prevention, as well as treatment and cures for diseases across a broad range of therapeutic areas.', 'Project involves in the maintenance and support of Enterprise Data Warehouse. The goal of the project is to provide a', 'foundation platform for corporate Business Intelligence with an enterprise data model. The DW provides the data', 'collected from multiple sources like manufacturing, Inventory, quality solutions, laboratory operations, complaint', 'management system.', '•  Extensively worked in data Extraction, Transformations and Loading from different source system and', 'manipulated ETL-logic to Target system tables', '•  Created command tasks using Informatica workflow-designer and execute the corresponding Shellscript.', '•  Various Business logics are implemented in Informatica mappings based on the business Requirements.', '•  Creation of mappings to load data from files to database.', '•  Preparation of Maintenance document.', '•  Preparation of Implementation plan for the release.', '•', 'Involved in preparing all required Documentation related to the code changes, preparing the Implementation', 'plans for Development, System test and Production. Preparing the Test plan documents like (Unit Test plan,', 'System test plan). Finally prepared the Maintenance Document before promoting the code to production', 'with all the necessary sign off details are included in it.', 'Involved in the phases like code development, Unit testing, SIT and UAT.', '•  Debugging in case of job failures and doing the analysis and fix that issue at the earliest.', '•  Developed the Informatica code for the Automation Configuration Application.', '•', '•  Prepared the Core Design document for the Automation Configuration Application.', '•  Prepared the UNIT Test scripts and involved in taking the UT Test Evidence.', '•', 'Involved in discussions with ONSITE Team while taking the Evidences in test phases within the time deadlines', 'and executed evidences with zero deviations.', '•  Ownership has taken in all the activities and ensured that tasks have completed within the time limits.']\n",
            "[68, 'RakeshM.pdf', 'FAILED']\n"
          ]
        }
      ]
    }
  ]
}