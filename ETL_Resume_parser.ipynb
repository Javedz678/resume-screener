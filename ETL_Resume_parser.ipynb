{
  "nbformat": 4,
  "nbformat_minor": 0,
  "metadata": {
    "colab": {
      "name": "ETL Resume parser.ipynb",
      "provenance": [],
      "collapsed_sections": [],
      "include_colab_link": true
    },
    "kernelspec": {
      "name": "python3",
      "display_name": "Python 3"
    },
    "language_info": {
      "name": "python"
    },
    "widgets": {
      "application/vnd.jupyter.widget-state+json": {
        "97d8186b7c3b421fb015994a884b7243": {
          "model_module": "@jupyter-widgets/controls",
          "model_name": "HBoxModel",
          "model_module_version": "1.5.0",
          "state": {
            "_view_name": "HBoxView",
            "_dom_classes": [],
            "_model_name": "HBoxModel",
            "_view_module": "@jupyter-widgets/controls",
            "_model_module_version": "1.5.0",
            "_view_count": null,
            "_view_module_version": "1.5.0",
            "box_style": "",
            "layout": "IPY_MODEL_5a9294e5897b4948ab56095e594614db",
            "_model_module": "@jupyter-widgets/controls",
            "children": [
              "IPY_MODEL_82062d656abe422f8121a31c3b26bd78",
              "IPY_MODEL_2066ab7f31fe4042ba59f5299426f655",
              "IPY_MODEL_e4784ddd940a441e90f1edc03cb12951"
            ]
          }
        },
        "5a9294e5897b4948ab56095e594614db": {
          "model_module": "@jupyter-widgets/base",
          "model_name": "LayoutModel",
          "model_module_version": "1.2.0",
          "state": {
            "_view_name": "LayoutView",
            "grid_template_rows": null,
            "right": null,
            "justify_content": null,
            "_view_module": "@jupyter-widgets/base",
            "overflow": null,
            "_model_module_version": "1.2.0",
            "_view_count": null,
            "flex_flow": null,
            "width": null,
            "min_width": null,
            "border": null,
            "align_items": null,
            "bottom": null,
            "_model_module": "@jupyter-widgets/base",
            "top": null,
            "grid_column": null,
            "overflow_y": null,
            "overflow_x": null,
            "grid_auto_flow": null,
            "grid_area": null,
            "grid_template_columns": null,
            "flex": null,
            "_model_name": "LayoutModel",
            "justify_items": null,
            "grid_row": null,
            "max_height": null,
            "align_content": null,
            "visibility": null,
            "align_self": null,
            "height": null,
            "min_height": null,
            "padding": null,
            "grid_auto_rows": null,
            "grid_gap": null,
            "max_width": null,
            "order": null,
            "_view_module_version": "1.2.0",
            "grid_template_areas": null,
            "object_position": null,
            "object_fit": null,
            "grid_auto_columns": null,
            "margin": null,
            "display": null,
            "left": null
          }
        },
        "82062d656abe422f8121a31c3b26bd78": {
          "model_module": "@jupyter-widgets/controls",
          "model_name": "HTMLModel",
          "model_module_version": "1.5.0",
          "state": {
            "_view_name": "HTMLView",
            "style": "IPY_MODEL_0b85964b888e4ba9a2521f8507b9c256",
            "_dom_classes": [],
            "description": "",
            "_model_name": "HTMLModel",
            "placeholder": "​",
            "_view_module": "@jupyter-widgets/controls",
            "_model_module_version": "1.5.0",
            "value": "100%",
            "_view_count": null,
            "_view_module_version": "1.5.0",
            "description_tooltip": null,
            "_model_module": "@jupyter-widgets/controls",
            "layout": "IPY_MODEL_57d57f60c8fe4ff0abf10067792dd485"
          }
        },
        "2066ab7f31fe4042ba59f5299426f655": {
          "model_module": "@jupyter-widgets/controls",
          "model_name": "FloatProgressModel",
          "model_module_version": "1.5.0",
          "state": {
            "_view_name": "ProgressView",
            "style": "IPY_MODEL_9b64b8fc74684672bfa9f99e6c34fd18",
            "_dom_classes": [],
            "description": "",
            "_model_name": "FloatProgressModel",
            "bar_style": "success",
            "max": 6,
            "_view_module": "@jupyter-widgets/controls",
            "_model_module_version": "1.5.0",
            "value": 6,
            "_view_count": null,
            "_view_module_version": "1.5.0",
            "orientation": "horizontal",
            "min": 0,
            "description_tooltip": null,
            "_model_module": "@jupyter-widgets/controls",
            "layout": "IPY_MODEL_fcb544818c1c4fee8f75b0e1764c14d2"
          }
        },
        "e4784ddd940a441e90f1edc03cb12951": {
          "model_module": "@jupyter-widgets/controls",
          "model_name": "HTMLModel",
          "model_module_version": "1.5.0",
          "state": {
            "_view_name": "HTMLView",
            "style": "IPY_MODEL_fa67d84b78aa431bb0b1bc13933aa135",
            "_dom_classes": [],
            "description": "",
            "_model_name": "HTMLModel",
            "placeholder": "​",
            "_view_module": "@jupyter-widgets/controls",
            "_model_module_version": "1.5.0",
            "value": " 6/6 [00:27&lt;00:00,  4.64s/it]",
            "_view_count": null,
            "_view_module_version": "1.5.0",
            "description_tooltip": null,
            "_model_module": "@jupyter-widgets/controls",
            "layout": "IPY_MODEL_0a058b5a2b02476689d056b1161f6c71"
          }
        },
        "0b85964b888e4ba9a2521f8507b9c256": {
          "model_module": "@jupyter-widgets/controls",
          "model_name": "DescriptionStyleModel",
          "model_module_version": "1.5.0",
          "state": {
            "_view_name": "StyleView",
            "_model_name": "DescriptionStyleModel",
            "description_width": "",
            "_view_module": "@jupyter-widgets/base",
            "_model_module_version": "1.5.0",
            "_view_count": null,
            "_view_module_version": "1.2.0",
            "_model_module": "@jupyter-widgets/controls"
          }
        },
        "57d57f60c8fe4ff0abf10067792dd485": {
          "model_module": "@jupyter-widgets/base",
          "model_name": "LayoutModel",
          "model_module_version": "1.2.0",
          "state": {
            "_view_name": "LayoutView",
            "grid_template_rows": null,
            "right": null,
            "justify_content": null,
            "_view_module": "@jupyter-widgets/base",
            "overflow": null,
            "_model_module_version": "1.2.0",
            "_view_count": null,
            "flex_flow": null,
            "width": null,
            "min_width": null,
            "border": null,
            "align_items": null,
            "bottom": null,
            "_model_module": "@jupyter-widgets/base",
            "top": null,
            "grid_column": null,
            "overflow_y": null,
            "overflow_x": null,
            "grid_auto_flow": null,
            "grid_area": null,
            "grid_template_columns": null,
            "flex": null,
            "_model_name": "LayoutModel",
            "justify_items": null,
            "grid_row": null,
            "max_height": null,
            "align_content": null,
            "visibility": null,
            "align_self": null,
            "height": null,
            "min_height": null,
            "padding": null,
            "grid_auto_rows": null,
            "grid_gap": null,
            "max_width": null,
            "order": null,
            "_view_module_version": "1.2.0",
            "grid_template_areas": null,
            "object_position": null,
            "object_fit": null,
            "grid_auto_columns": null,
            "margin": null,
            "display": null,
            "left": null
          }
        },
        "9b64b8fc74684672bfa9f99e6c34fd18": {
          "model_module": "@jupyter-widgets/controls",
          "model_name": "ProgressStyleModel",
          "model_module_version": "1.5.0",
          "state": {
            "_view_name": "StyleView",
            "_model_name": "ProgressStyleModel",
            "description_width": "",
            "_view_module": "@jupyter-widgets/base",
            "_model_module_version": "1.5.0",
            "_view_count": null,
            "_view_module_version": "1.2.0",
            "bar_color": null,
            "_model_module": "@jupyter-widgets/controls"
          }
        },
        "fcb544818c1c4fee8f75b0e1764c14d2": {
          "model_module": "@jupyter-widgets/base",
          "model_name": "LayoutModel",
          "model_module_version": "1.2.0",
          "state": {
            "_view_name": "LayoutView",
            "grid_template_rows": null,
            "right": null,
            "justify_content": null,
            "_view_module": "@jupyter-widgets/base",
            "overflow": null,
            "_model_module_version": "1.2.0",
            "_view_count": null,
            "flex_flow": null,
            "width": null,
            "min_width": null,
            "border": null,
            "align_items": null,
            "bottom": null,
            "_model_module": "@jupyter-widgets/base",
            "top": null,
            "grid_column": null,
            "overflow_y": null,
            "overflow_x": null,
            "grid_auto_flow": null,
            "grid_area": null,
            "grid_template_columns": null,
            "flex": null,
            "_model_name": "LayoutModel",
            "justify_items": null,
            "grid_row": null,
            "max_height": null,
            "align_content": null,
            "visibility": null,
            "align_self": null,
            "height": null,
            "min_height": null,
            "padding": null,
            "grid_auto_rows": null,
            "grid_gap": null,
            "max_width": null,
            "order": null,
            "_view_module_version": "1.2.0",
            "grid_template_areas": null,
            "object_position": null,
            "object_fit": null,
            "grid_auto_columns": null,
            "margin": null,
            "display": null,
            "left": null
          }
        },
        "fa67d84b78aa431bb0b1bc13933aa135": {
          "model_module": "@jupyter-widgets/controls",
          "model_name": "DescriptionStyleModel",
          "model_module_version": "1.5.0",
          "state": {
            "_view_name": "StyleView",
            "_model_name": "DescriptionStyleModel",
            "description_width": "",
            "_view_module": "@jupyter-widgets/base",
            "_model_module_version": "1.5.0",
            "_view_count": null,
            "_view_module_version": "1.2.0",
            "_model_module": "@jupyter-widgets/controls"
          }
        },
        "0a058b5a2b02476689d056b1161f6c71": {
          "model_module": "@jupyter-widgets/base",
          "model_name": "LayoutModel",
          "model_module_version": "1.2.0",
          "state": {
            "_view_name": "LayoutView",
            "grid_template_rows": null,
            "right": null,
            "justify_content": null,
            "_view_module": "@jupyter-widgets/base",
            "overflow": null,
            "_model_module_version": "1.2.0",
            "_view_count": null,
            "flex_flow": null,
            "width": null,
            "min_width": null,
            "border": null,
            "align_items": null,
            "bottom": null,
            "_model_module": "@jupyter-widgets/base",
            "top": null,
            "grid_column": null,
            "overflow_y": null,
            "overflow_x": null,
            "grid_auto_flow": null,
            "grid_area": null,
            "grid_template_columns": null,
            "flex": null,
            "_model_name": "LayoutModel",
            "justify_items": null,
            "grid_row": null,
            "max_height": null,
            "align_content": null,
            "visibility": null,
            "align_self": null,
            "height": null,
            "min_height": null,
            "padding": null,
            "grid_auto_rows": null,
            "grid_gap": null,
            "max_width": null,
            "order": null,
            "_view_module_version": "1.2.0",
            "grid_template_areas": null,
            "object_position": null,
            "object_fit": null,
            "grid_auto_columns": null,
            "margin": null,
            "display": null,
            "left": null
          }
        }
      }
    }
  },
  "cells": [
    {
      "cell_type": "markdown",
      "metadata": {
        "id": "view-in-github",
        "colab_type": "text"
      },
      "source": [
        "<a href=\"https://colab.research.google.com/github/Javedz678/resume-screener/blob/main/ETL_Resume_parser.ipynb\" target=\"_parent\"><img src=\"https://colab.research.google.com/assets/colab-badge.svg\" alt=\"Open In Colab\"/></a>"
      ]
    },
    {
      "cell_type": "markdown",
      "metadata": {
        "id": "mshkGFk-zpSK"
      },
      "source": [
        "<h1>Extract text from resume</h1>"
      ]
    },
    {
      "cell_type": "code",
      "metadata": {
        "id": "3LWno_t_fDSl"
      },
      "source": [
        "!pip install sentence_transformers\n",
        "!pip install pyresparser\n",
        "!python -m spacy download en_core_web_sm\n",
        "!pip install spacy\n",
        "!pip install gingerit"
      ],
      "execution_count": null,
      "outputs": []
    },
    {
      "cell_type": "code",
      "metadata": {
        "id": "NXAAl7P18fF1"
      },
      "source": [
        "import string\n",
        "import re\n",
        "import nltk\n",
        "import statistics\n",
        "from nltk.corpus import stopwords\n",
        "from nltk.tokenize import word_tokenize\n",
        "from nltk.stem import WordNetLemmatizer\n",
        "from sklearn.metrics.pairwise import cosine_similarity\n",
        "from sklearn.feature_extraction.text import TfidfVectorizer\n",
        "from sentence_transformers import SentenceTransformer\n",
        "from tabulate import tabulate\n",
        "import pandas as pd\n",
        "import matplotlib.pyplot as plt\n",
        "import numpy as np\n",
        "import math\n",
        "import os\n",
        "from tqdm import tqdm\n",
        "import en_core_web_sm\n",
        "nltk.download('stopwords')\n",
        "nltk.download('punkt')\n",
        "nltk.download('wordnet')\n",
        "os.chdir(\"/content/resume/\")\n",
        "from pyresparser import ResumeParser\n",
        "from gingerit.gingerit import GingerIt\n",
        "import json"
      ],
      "execution_count": null,
      "outputs": []
    },
    {
      "cell_type": "code",
      "metadata": {
        "id": "uIygNDiCNTz4"
      },
      "source": [
        "from tqdm.notebook import tqdm_notebook"
      ],
      "execution_count": null,
      "outputs": []
    },
    {
      "cell_type": "code",
      "metadata": {
        "id": "3FEmK3jY9ffJ"
      },
      "source": [
        "#Parsing\n",
        "def parse(path2file):\n",
        "  return ResumeParser(path2file).get_extracted_data()"
      ],
      "execution_count": null,
      "outputs": []
    },
    {
      "cell_type": "code",
      "metadata": {
        "id": "0MWpAKTH9xkp"
      },
      "source": [
        "def start():\n",
        "  resume_list = os.listdir()\n",
        "  for resume in resume_list:\n",
        "    print(\"Parsing.....\")\n",
        "    parse(resume)"
      ],
      "execution_count": null,
      "outputs": []
    },
    {
      "cell_type": "code",
      "metadata": {
        "id": "0eetRhWi-zjQ"
      },
      "source": [
        "#Global arrays\n",
        "score_array=[]\n",
        "master_records= []\n",
        "top_institutes = [\"IIT\",\"NIT\",\"IIIT\",\"BITS\"]\n",
        "equvalent_courses = [\"B.E\",\"MSC\",\"MCA\",\"B.Tech\",\"Bachelors\",\"Information science\",\"AI\",\"ML\"]\n",
        "top_banks = [\"JP Morgan\",\"Goldman sachs\",\"Axis bank\",\"HSBC\",\"VISA\",\"PayPal\",\"PWC\",\"HDFC Bank\"]\n",
        "prefer = False"
      ],
      "execution_count": null,
      "outputs": []
    },
    {
      "cell_type": "markdown",
      "metadata": {
        "id": "zzCy5E8x9TDI"
      },
      "source": [
        "Data cleaning"
      ]
    },
    {
      "cell_type": "code",
      "metadata": {
        "id": "663W_YuQFqXx"
      },
      "source": [
        "def start(actual,expected):\n",
        "  removeStopwords(actual,expected)"
      ],
      "execution_count": null,
      "outputs": []
    },
    {
      "cell_type": "code",
      "metadata": {
        "id": "Z4rbZlP3Pdq9"
      },
      "source": [
        "def checkTopInstitutes(education,requiredEducation):\n",
        "  for institute in top_institutes:\n",
        "    if institute in education:\n",
        "      education = requiredEducation\n",
        "      break\n",
        "    else:\n",
        "      education.join(',')"
      ],
      "execution_count": null,
      "outputs": []
    },
    {
      "cell_type": "code",
      "metadata": {
        "id": "d9EqVflxaIPl"
      },
      "source": [
        "def checkEquvalentCourses(education,requiredEducation):\n",
        "  for course in equvalent_courses:\n",
        "    if course in education:\n",
        "      education = requiredEducation\n",
        "    else:\n",
        "      education.join(',')"
      ],
      "execution_count": null,
      "outputs": []
    },
    {
      "cell_type": "code",
      "metadata": {
        "id": "QF_3Fp_M9w5u"
      },
      "source": [
        "def preferExperience(candidateExperience):\n",
        "  candidateExperience = candidateExperience.split()\n",
        "  for bank in top_banks:\n",
        "    if bank in candidateExperience:\n",
        "      return True"
      ],
      "execution_count": null,
      "outputs": []
    },
    {
      "cell_type": "code",
      "metadata": {
        "id": "8ukvHBI1CQKh"
      },
      "source": [
        "def removeStopwords(actual,expected):\n",
        "  stop_words = set(stopwords.words('english'))\n",
        "  candidateExperienceTokens = word_tokenize(actual)\n",
        "  requiredExperienceTokens = word_tokenize(expected)\n",
        "  cleanCandidateExperience = [word for word in candidateExperienceTokens if not word in stopwords.words()]\n",
        "  cleanrequiredExperience = [word for word in requiredExperienceTokens if not word in stopwords.words()]\n",
        "  lemmatisation(cleanCandidateExperience,cleanrequiredExperience)"
      ],
      "execution_count": null,
      "outputs": []
    },
    {
      "cell_type": "code",
      "metadata": {
        "id": "7QejjxgGClqI"
      },
      "source": [
        "def lemmatisation(actual,expected):\n",
        "  CandidateExperience = ' '.join(map(str, actual))\n",
        "  RequiredExperience = ' '.join(map(str, expected))\n",
        "  lemmatizer = WordNetLemmatizer()\n",
        "  lemCandidateExperience =lemmatizer.lemmatize(CandidateExperience)\n",
        "  lemRequiredExperience = lemmatizer.lemmatize(RequiredExperience)\n",
        "  removePunctuation(lemCandidateExperience,lemRequiredExperience)"
      ],
      "execution_count": null,
      "outputs": []
    },
    {
      "cell_type": "code",
      "metadata": {
        "id": "gET18yibCzMi"
      },
      "source": [
        "def removePunctuation(actual,expected):\n",
        "  noPunCandidateExperience = \"\"\n",
        "  noPunRequiredExperience = \"\"\n",
        "  for character in actual:\n",
        "      if character.isalnum():\n",
        "          noPunCandidateExperience += character\n",
        "      else:\n",
        "        noPunCandidateExperience += \" \"\n",
        "        \n",
        "  for character in expected:\n",
        "      if character.isalnum():\n",
        "          noPunRequiredExperience += character\n",
        "      else:\n",
        "        noPunRequiredExperience += \" \"\n",
        "  model(noPunCandidateExperience,noPunRequiredExperience)"
      ],
      "execution_count": null,
      "outputs": []
    },
    {
      "cell_type": "code",
      "metadata": {
        "id": "LuQ2dMw_mZpM"
      },
      "source": [
        "def drawPieChart():\n",
        "  y=[]\n",
        "  for i in range(len(score_array)):\n",
        "    if(i==2):\n",
        "      y.append(score_array[i]*1.5)\n",
        "    else:\n",
        "      y.append(score_array[i])\n",
        "  mylabels = [\"Skills\", \"Education\", \"Experience\"]\n",
        "  explode = (0, 0, 0.1 ) \n",
        "  plt.pie(y, labels = mylabels, explode=explode, shadow=True)\n",
        "  plt.title(\"Distribution of attributes of the Candidate.\")\n",
        "  plt.show() "
      ],
      "execution_count": null,
      "outputs": []
    },
    {
      "cell_type": "code",
      "metadata": {
        "id": "zO_VOk5yYOMa"
      },
      "source": [
        "#Process prequesit requirements \n",
        "def processPrequesits(requireTopTierEducation,preferBankExperience):\n",
        "  if(requireTopTierEducation):\n",
        "    requiredEducation = \"BE in computer science from\" + ' '.join([str(elem) for elem in top_institutes])\n",
        "    checkTopInstitutes(education,requiredEducation)\n",
        "  else:\n",
        "    requiredEducation = \"BE in computer science \"\n",
        "    checkEquvalentCourses(education,requiredEducation)\n",
        "  if(preferBankExperience):\n",
        "    hasPreferance = preferExperience(candidateExperience)\n",
        "    if(hasPreferance):\n",
        "      prefer = True\n",
        "  return requiredEducation"
      ],
      "execution_count": null,
      "outputs": []
    },
    {
      "cell_type": "code",
      "metadata": {
        "id": "BsEmRIJj_P7S"
      },
      "source": [
        "def initJob(requireTopTierEducation,preferBankExperience,requirementCorpus,prefer = False):\n",
        "  #requiredEducation = processPrequesits(requireTopTierEducation,preferBankExperience)\n",
        "  resume_list = os.listdir()\n",
        "  for resume in tqdm_notebook(resume_list):\n",
        "    obj = parse(resume)\n",
        "    data = obj.get('experience')\n",
        "    candidateCorpus = \"\".join(data)\n",
        "    sentenceTranformerModel(candidateCorpus.lower(),requirementCorpus.lower())\n",
        "    analytics(resume,prefer)\n",
        "    \n",
        "  #drawPieChart()\n",
        "  #analytics(prefer)"
      ],
      "execution_count": null,
      "outputs": []
    },
    {
      "cell_type": "code",
      "metadata": {
        "id": "-Py5xiNkipjG"
      },
      "source": [
        "def analytics(name,prefer = False):\n",
        "  avg = score_array[0]\n",
        "  score_array.append(name)\n",
        "  if(avg>min_criteria):\n",
        "    score_array.append(\"PASSED\")\n",
        "  elif(avg>70 and avg<min_criteria):\n",
        "    score_array.append(\"Manual review needed\")\n",
        "  else:\n",
        "    score_array.append(\"FAILED\")\n",
        "\n",
        "  if(prefer):\n",
        "    score_array.append(\"Has banking experience.\")\n",
        "  print(score_array)\n",
        "  score_array.clear()"
      ],
      "execution_count": null,
      "outputs": []
    },
    {
      "cell_type": "code",
      "metadata": {
        "id": "CXX62uSbItyF"
      },
      "source": [
        "def showTable():\n",
        "  print(master_records)\n",
        "  #print(tabulate(master_records, headers=[\"Resume score\",\"Automatic screening\",\"Insights\"]))"
      ],
      "execution_count": null,
      "outputs": []
    },
    {
      "cell_type": "markdown",
      "metadata": {
        "id": "M4B5c8lk57u-"
      },
      "source": [
        "<h3>Modelling</h3>"
      ]
    },
    {
      "cell_type": "code",
      "metadata": {
        "id": "5gHmNKlBVMJg"
      },
      "source": [
        "def sentenceTranformerModel(actual,expected):\n",
        "  modelName = \"bert-base-nli-mean-tokens\"\n",
        "  model = SentenceTransformer(modelName)\n",
        "  vectorA = model.encode([actual])\n",
        "  vectorB = model.encode([expected])\n",
        "  similarity_index = cosine_similarity(vectorA, vectorB)\n",
        "  final_score = similarity_index[0][0]*100\n",
        "  score_array.append(int(final_score))"
      ],
      "execution_count": null,
      "outputs": []
    },
    {
      "cell_type": "markdown",
      "metadata": {
        "id": "JCx4SrobHAEE"
      },
      "source": [
        "<h3>Analysis</h3>\n"
      ]
    },
    {
      "cell_type": "markdown",
      "metadata": {
        "id": "SRzpsWN5kgu8"
      },
      "source": [
        "Make changes below to describe what is needed."
      ]
    },
    {
      "cell_type": "markdown",
      "metadata": {
        "id": "OIAdqGhhkVti"
      },
      "source": [
        "## **Runnable**"
      ]
    },
    {
      "cell_type": "markdown",
      "metadata": {
        "id": "ztOjXHDQZhGM"
      },
      "source": [
        "***Organisation - Taken from front end***"
      ]
    },
    {
      "cell_type": "code",
      "metadata": {
        "id": "70Yx842f_Wmf"
      },
      "source": [
        "requireTopTierEducation = False\n",
        "preferBankExperience = False\n",
        "min_criteria = 80\n",
        "requiredEducation = \"Bachelors of engineering \"\n",
        "requiredSkills = \" Java, REACT JS, Spring, Hibernate, CI/ CD, Docker, Kubernetes, Public Cloud (Azure), SQL, Web technologies.\"\n",
        "requiredExperience = \" Deep expertise and hands on experience in Core java. · Hands-on experience with at least 2 to 12 years in Spring and Hibernate technologies. · Hands-on experience with at least 2 to 12 years in web GUI development using HTML, CSS, ReactJS, Bootstrap · Clear understanding of Software Development life cycle and process Oriented. Would be great if worked on Agile or Continuous Delivery (CD) based projects before. · Good fundamentals in Core Programming, Object Oriented design & Design patterns · Should have good hands -on experience on the fundamentals of how modern web works with SPA, Restful APIs and OAuth/OpenID Connect protocols · Experience in creating & executing unit tests using test driven approach with JUnit or any other equivalent.\"\n",
        "requirementCorpus = requiredEducation + requiredSkills + requiredExperience"
      ],
      "execution_count": null,
      "outputs": []
    },
    {
      "cell_type": "markdown",
      "metadata": {
        "id": "0QzxmqnGY4Gg"
      },
      "source": [
        "***Candidates - Taken from Resume***"
      ]
    },
    {
      "cell_type": "code",
      "metadata": {
        "colab": {
          "base_uri": "https://localhost:8080/",
          "height": 159,
          "referenced_widgets": [
            "97d8186b7c3b421fb015994a884b7243",
            "5a9294e5897b4948ab56095e594614db",
            "82062d656abe422f8121a31c3b26bd78",
            "2066ab7f31fe4042ba59f5299426f655",
            "e4784ddd940a441e90f1edc03cb12951",
            "0b85964b888e4ba9a2521f8507b9c256",
            "57d57f60c8fe4ff0abf10067792dd485",
            "9b64b8fc74684672bfa9f99e6c34fd18",
            "fcb544818c1c4fee8f75b0e1764c14d2",
            "fa67d84b78aa431bb0b1bc13933aa135",
            "0a058b5a2b02476689d056b1161f6c71"
          ]
        },
        "id": "D4zsdLH1Ek4g",
        "outputId": "8a43c912-d20b-4896-9640-5f39540a615f"
      },
      "source": [
        "#Start Job\n",
        "initJob(requireTopTierEducation,preferBankExperience,requirementCorpus,prefer)"
      ],
      "execution_count": null,
      "outputs": [
        {
          "output_type": "display_data",
          "data": {
            "application/vnd.jupyter.widget-view+json": {
              "model_id": "97d8186b7c3b421fb015994a884b7243",
              "version_minor": 0,
              "version_major": 2
            },
            "text/plain": [
              "  0%|          | 0/6 [00:00<?, ?it/s]"
            ]
          },
          "metadata": {}
        },
        {
          "output_type": "stream",
          "name": "stdout",
          "text": [
            "[72, 'Galla Renuka.pdf', 'Manual review needed']\n",
            "[67, 'RakeshM.pdf', 'FAILED']\n",
            "[68, 'SivaKumar.pdf', 'FAILED']\n",
            "[63, 'Yesuraju.pdf', 'FAILED']\n",
            "[70, 'Anamala SandeepReddy.pdf', 'FAILED']\n",
            "[58, 'VaraPrasad.pdf', 'FAILED']\n"
          ]
        }
      ]
    }
  ]
}